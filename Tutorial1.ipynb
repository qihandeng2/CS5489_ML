{
  "nbformat": 4,
  "nbformat_minor": 0,
  "metadata": {
    "kernelspec": {
      "display_name": "Python 3",
      "language": "python",
      "name": "python3"
    },
    "language_info": {
      "codemirror_mode": {
        "name": "ipython",
        "version": 3
      },
      "file_extension": ".py",
      "mimetype": "text/x-python",
      "name": "python",
      "nbconvert_exporter": "python",
      "pygments_lexer": "ipython3",
      "version": "3.7.4"
    },
    "colab": {
      "name": "Tutorial1.ipynb",
      "provenance": [],
      "collapsed_sections": [],
      "toc_visible": true
    }
  },
  "cells": [
    {
      "cell_type": "markdown",
      "metadata": {
        "id": "dgTGFb1syDJI",
        "colab_type": "text"
      },
      "source": [
        "# CS4487 - Tutorial 1\n",
        "## Introduction to Jupyter and Python\n",
        "\n",
        "Welcome to Jupyter (IPython Notebooks)!  In this tutorial you will get familiar with the Jupyter computing environment, and also practice writing a small Python program."
      ]
    },
    {
      "cell_type": "markdown",
      "metadata": {
        "id": "xMgwhd9GyDJK",
        "colab_type": "text"
      },
      "source": [
        "## 1. Basics\n",
        "Notebooks are organized by cells.  Each cell can hold either Markdown formatted text or Python code.  \n",
        "- To create a new cell, use the \"Insert\" Menu.  \n",
        "- Next, choose the cell type using the dropdown menu in the toolbar, or in the \"Cell\" -> \"Cell Type\" menu.  \n",
        "- To \"run\" the cell, use the \"Cell/Run\" menu item, or push the \"play\" button on the toolbar."
      ]
    },
    {
      "cell_type": "markdown",
      "metadata": {
        "id": "PSeT7B1ayDJL",
        "colab_type": "text"
      },
      "source": [
        "Here are some useful keyboard shortcuts:\n",
        "- [arrow keys] - move up or down cells\n",
        "- b - create new cell below current one\n",
        "- a - create new cell above current one\n",
        "- dd - delete current cell\n",
        "- m - change cell to Markdown (default is code)\n",
        "- [enter] - edit cell\n",
        "- [ctrl+enter] - render/run the current cell\n",
        "- [shift+enter] - render/run the current cell, and move to the next cell."
      ]
    },
    {
      "cell_type": "markdown",
      "metadata": {
        "id": "rV8s-x4AyDJM",
        "colab_type": "text"
      },
      "source": [
        "**Tip**: In the tutorial and assignment ipynb files, it is okay to make additional code cells in the file.  This will allow you to work incrementally, and avoid re-running time-consuming code blocks."
      ]
    },
    {
      "cell_type": "markdown",
      "metadata": {
        "id": "8N8tdE9ZyDJM",
        "colab_type": "text"
      },
      "source": [
        "## 2. Playground\n",
        "This cell is holding Markdown formatted text.  Here is a [Markdown cheatsheet](https://github.com/adam-p/markdown-here/wiki/Markdown-Cheatsheet).\n",
        "\n",
        "The following cell holds Python code!  Select the cell, and press \"play\" to execute the code.  The output will appear below the code."
      ]
    },
    {
      "cell_type": "code",
      "metadata": {
        "id": "uX0HMbedyDJN",
        "colab_type": "code",
        "outputId": "7637c8cd-796e-4e21-e1b4-a6f1b0ab977b",
        "colab": {
          "base_uri": "https://localhost:8080/",
          "height": 35
        }
      },
      "source": [
        "print(\"Hello World!\")"
      ],
      "execution_count": 0,
      "outputs": [
        {
          "output_type": "stream",
          "text": [
            "Hello World!\n"
          ],
          "name": "stdout"
        }
      ]
    },
    {
      "cell_type": "markdown",
      "metadata": {
        "id": "rK3ZdC9LyDJQ",
        "colab_type": "text"
      },
      "source": [
        "The notebook remembers the current state of the environment.  Thus, variables and functions that are executed will persist.  Here is a variable.  Run the cell to initialize the variable."
      ]
    },
    {
      "cell_type": "code",
      "metadata": {
        "id": "SDbBSIbnyDJR",
        "colab_type": "code",
        "outputId": "59d954d0-fb57-4ead-b9a4-ce0d9676afce",
        "colab": {
          "base_uri": "https://localhost:8080/",
          "height": 35
        }
      },
      "source": [
        "x = 0\n",
        "print(x)"
      ],
      "execution_count": 0,
      "outputs": [
        {
          "output_type": "stream",
          "text": [
            "0\n"
          ],
          "name": "stdout"
        }
      ]
    },
    {
      "cell_type": "markdown",
      "metadata": {
        "id": "F-5V6mlJyDJT",
        "colab_type": "text"
      },
      "source": [
        "Now try running the below cell several times.  You will see the value of `x` increase each time you run it."
      ]
    },
    {
      "cell_type": "code",
      "metadata": {
        "id": "qIgVDVzTyDJT",
        "colab_type": "code",
        "outputId": "97293158-455a-41dc-fb5e-e8ed80151c20",
        "colab": {
          "base_uri": "https://localhost:8080/",
          "height": 35
        }
      },
      "source": [
        "x += 1\n",
        "print(x)"
      ],
      "execution_count": 0,
      "outputs": [
        {
          "output_type": "stream",
          "text": [
            "1\n"
          ],
          "name": "stdout"
        }
      ]
    },
    {
      "cell_type": "markdown",
      "metadata": {
        "id": "CkLWy5yGyDJV",
        "colab_type": "text"
      },
      "source": [
        "To reset the environment, you need to restart the kernel by either: 1) using the \"Kernel/Restart\" menu; or 2) the \"Refresh\" button on the toolbar.  \n",
        "\n",
        "If you restart the kernel and try to run the above cell, you will get an error because `x` is not defined yet. \n",
        "\n",
        "The outputs can also be cleared using \"Cell/All output/Clear\" menu item.\n",
        "\n",
        "------"
      ]
    },
    {
      "cell_type": "markdown",
      "metadata": {
        "id": "K4v4uj40yDJW",
        "colab_type": "text"
      },
      "source": [
        "## 3. Python program\n",
        "In this section, you will write a small program to get familiar with Python.\n",
        "\n",
        "The goal of the program is to count the number of factors (_not including 1 and the number itself_) for each number between 2 and 100.  For example, the number of factors of 2 is 0, and the number of factors for 4 is 1.\n",
        "\n",
        "Here are two variables to get you started, `xs` stores the numbers from 2 to 100, and `fs` will store the factors for each number in `xs`."
      ]
    },
    {
      "cell_type": "code",
      "metadata": {
        "id": "ROSPpMdByDJW",
        "colab_type": "code",
        "colab": {}
      },
      "source": [
        "xs = range(2,101)   # the number\n",
        "fs = []             # store number of factors in this list"
      ],
      "execution_count": 0,
      "outputs": []
    },
    {
      "cell_type": "markdown",
      "metadata": {
        "id": "_gNNGUDYyDJY",
        "colab_type": "text"
      },
      "source": [
        "Write the program in the cell below."
      ]
    },
    {
      "cell_type": "code",
      "metadata": {
        "id": "RgBuCI_2yDJZ",
        "colab_type": "code",
        "outputId": "aba026b2-cb0b-45f1-f7fd-3c4aa5786424",
        "colab": {
          "base_uri": "https://localhost:8080/",
          "height": 1000
        }
      },
      "source": [
        "i=0\n",
        "while i < 101-2:\n",
        "    fs.append(0)\n",
        "    i = i+1\n",
        "i=0\n",
        "j=2\n",
        "for x in xs:\n",
        "    while j<x:\n",
        "        if x % j == 0 :\n",
        "            fs[i] = fs[i]+1\n",
        "        j = j + 1        \n",
        "    j=2\n",
        "    i = i + 1\n",
        "i=0\n",
        "while i<99:\n",
        "    print(xs[i], \"-\", fs[i])\n",
        "    i=i+1\n",
        "    \n",
        "    "
      ],
      "execution_count": 0,
      "outputs": [
        {
          "output_type": "stream",
          "text": [
            "2 - 0\n",
            "3 - 0\n",
            "4 - 1\n",
            "5 - 0\n",
            "6 - 2\n",
            "7 - 0\n",
            "8 - 2\n",
            "9 - 1\n",
            "10 - 2\n",
            "11 - 0\n",
            "12 - 4\n",
            "13 - 0\n",
            "14 - 2\n",
            "15 - 2\n",
            "16 - 3\n",
            "17 - 0\n",
            "18 - 4\n",
            "19 - 0\n",
            "20 - 4\n",
            "21 - 2\n",
            "22 - 2\n",
            "23 - 0\n",
            "24 - 6\n",
            "25 - 1\n",
            "26 - 2\n",
            "27 - 2\n",
            "28 - 4\n",
            "29 - 0\n",
            "30 - 6\n",
            "31 - 0\n",
            "32 - 4\n",
            "33 - 2\n",
            "34 - 2\n",
            "35 - 2\n",
            "36 - 7\n",
            "37 - 0\n",
            "38 - 2\n",
            "39 - 2\n",
            "40 - 6\n",
            "41 - 0\n",
            "42 - 6\n",
            "43 - 0\n",
            "44 - 4\n",
            "45 - 4\n",
            "46 - 2\n",
            "47 - 0\n",
            "48 - 8\n",
            "49 - 1\n",
            "50 - 4\n",
            "51 - 2\n",
            "52 - 4\n",
            "53 - 0\n",
            "54 - 6\n",
            "55 - 2\n",
            "56 - 6\n",
            "57 - 2\n",
            "58 - 2\n",
            "59 - 0\n",
            "60 - 10\n",
            "61 - 0\n",
            "62 - 2\n",
            "63 - 4\n",
            "64 - 5\n",
            "65 - 2\n",
            "66 - 6\n",
            "67 - 0\n",
            "68 - 4\n",
            "69 - 2\n",
            "70 - 6\n",
            "71 - 0\n",
            "72 - 10\n",
            "73 - 0\n",
            "74 - 2\n",
            "75 - 4\n",
            "76 - 4\n",
            "77 - 2\n",
            "78 - 6\n",
            "79 - 0\n",
            "80 - 8\n",
            "81 - 3\n",
            "82 - 2\n",
            "83 - 0\n",
            "84 - 10\n",
            "85 - 2\n",
            "86 - 2\n",
            "87 - 2\n",
            "88 - 6\n",
            "89 - 0\n",
            "90 - 10\n",
            "91 - 2\n",
            "92 - 4\n",
            "93 - 2\n",
            "94 - 2\n",
            "95 - 2\n",
            "96 - 10\n",
            "97 - 0\n",
            "98 - 4\n",
            "99 - 4\n",
            "100 - 7\n"
          ],
          "name": "stdout"
        }
      ]
    },
    {
      "cell_type": "markdown",
      "metadata": {
        "id": "rMtRTiQ2yDJa",
        "colab_type": "text"
      },
      "source": [
        "Now we will make some plots using `xs` and `fs`.  First, we need to initialize the matplotlib library."
      ]
    },
    {
      "cell_type": "code",
      "metadata": {
        "id": "RWP-Mj8XyDJb",
        "colab_type": "code",
        "colab": {}
      },
      "source": [
        "# setup matplotlib display\n",
        "%matplotlib inline\n",
        "import IPython.core.display         # setup output image format\n",
        "IPython.core.display.set_matplotlib_formats(\"svg\") \n",
        "import matplotlib.pyplot as plt     # import matplotlib"
      ],
      "execution_count": 0,
      "outputs": []
    },
    {
      "cell_type": "markdown",
      "metadata": {
        "id": "c_jepwqByDJc",
        "colab_type": "text"
      },
      "source": [
        "Write code to plot the number of factors (y-axis) vs the number (x-axis). Don't forget to label your axes!"
      ]
    },
    {
      "cell_type": "code",
      "metadata": {
        "id": "QPygM3YcyDJd",
        "colab_type": "code",
        "outputId": "f5de9137-a293-450b-d7f2-560e7343b0d4",
        "colab": {
          "base_uri": "https://localhost:8080/",
          "height": 390
        }
      },
      "source": [
        "x=xs\n",
        "y=fs\n",
        "plt.plot(x,y,'bo-')\n",
        "plt.grid(True)\n",
        "plt.ylabel('number of factors');plt.xlabel('number');plt.title('factors of number')\n",
        "plt.show()"
      ],
      "execution_count": 0,
      "outputs": [
        {
          "output_type": "display_data",
          "data": {
            "text/plain": [
              "<Figure size 432x288 with 1 Axes>"
            ],
            "image/svg+xml": "<?xml version=\"1.0\" encoding=\"utf-8\" standalone=\"no\"?>\n<!DOCTYPE svg PUBLIC \"-//W3C//DTD SVG 1.1//EN\"\n  \"http://www.w3.org/Graphics/SVG/1.1/DTD/svg11.dtd\">\n<!-- Created with matplotlib (https://matplotlib.org/) -->\n<svg height=\"277.314375pt\" version=\"1.1\" viewBox=\"0 0 382.603125 277.314375\" width=\"382.603125pt\" xmlns=\"http://www.w3.org/2000/svg\" xmlns:xlink=\"http://www.w3.org/1999/xlink\">\n <defs>\n  <style type=\"text/css\">\n*{stroke-linecap:butt;stroke-linejoin:round;}\n  </style>\n </defs>\n <g id=\"figure_1\">\n  <g id=\"patch_1\">\n   <path d=\"M 0 277.314375 \nL 382.603125 277.314375 \nL 382.603125 0 \nL 0 0 \nz\n\" style=\"fill:none;\"/>\n  </g>\n  <g id=\"axes_1\">\n   <g id=\"patch_2\">\n    <path d=\"M 40.603125 239.758125 \nL 375.403125 239.758125 \nL 375.403125 22.318125 \nL 40.603125 22.318125 \nz\n\" style=\"fill:#ffffff;\"/>\n   </g>\n   <g id=\"matplotlib.axis_1\">\n    <g id=\"xtick_1\">\n     <g id=\"line2d_1\">\n      <path clip-path=\"url(#p538be7c77d)\" d=\"M 49.609804 239.758125 \nL 49.609804 22.318125 \n\" style=\"fill:none;stroke:#b0b0b0;stroke-linecap:square;stroke-width:0.8;\"/>\n     </g>\n     <g id=\"line2d_2\">\n      <defs>\n       <path d=\"M 0 0 \nL 0 3.5 \n\" id=\"m592429d17a\" style=\"stroke:#000000;stroke-width:0.8;\"/>\n      </defs>\n      <g>\n       <use style=\"stroke:#000000;stroke-width:0.8;\" x=\"49.609804\" xlink:href=\"#m592429d17a\" y=\"239.758125\"/>\n      </g>\n     </g>\n     <g id=\"text_1\">\n      <!-- 0 -->\n      <defs>\n       <path d=\"M 31.78125 66.40625 \nQ 24.171875 66.40625 20.328125 58.90625 \nQ 16.5 51.421875 16.5 36.375 \nQ 16.5 21.390625 20.328125 13.890625 \nQ 24.171875 6.390625 31.78125 6.390625 \nQ 39.453125 6.390625 43.28125 13.890625 \nQ 47.125 21.390625 47.125 36.375 \nQ 47.125 51.421875 43.28125 58.90625 \nQ 39.453125 66.40625 31.78125 66.40625 \nz\nM 31.78125 74.21875 \nQ 44.046875 74.21875 50.515625 64.515625 \nQ 56.984375 54.828125 56.984375 36.375 \nQ 56.984375 17.96875 50.515625 8.265625 \nQ 44.046875 -1.421875 31.78125 -1.421875 \nQ 19.53125 -1.421875 13.0625 8.265625 \nQ 6.59375 17.96875 6.59375 36.375 \nQ 6.59375 54.828125 13.0625 64.515625 \nQ 19.53125 74.21875 31.78125 74.21875 \nz\n\" id=\"DejaVuSans-48\"/>\n      </defs>\n      <g transform=\"translate(46.428554 254.356562)scale(0.1 -0.1)\">\n       <use xlink:href=\"#DejaVuSans-48\"/>\n      </g>\n     </g>\n    </g>\n    <g id=\"xtick_2\">\n     <g id=\"line2d_3\">\n      <path clip-path=\"url(#p538be7c77d)\" d=\"M 111.724832 239.758125 \nL 111.724832 22.318125 \n\" style=\"fill:none;stroke:#b0b0b0;stroke-linecap:square;stroke-width:0.8;\"/>\n     </g>\n     <g id=\"line2d_4\">\n      <g>\n       <use style=\"stroke:#000000;stroke-width:0.8;\" x=\"111.724832\" xlink:href=\"#m592429d17a\" y=\"239.758125\"/>\n      </g>\n     </g>\n     <g id=\"text_2\">\n      <!-- 20 -->\n      <defs>\n       <path d=\"M 19.1875 8.296875 \nL 53.609375 8.296875 \nL 53.609375 0 \nL 7.328125 0 \nL 7.328125 8.296875 \nQ 12.9375 14.109375 22.625 23.890625 \nQ 32.328125 33.6875 34.8125 36.53125 \nQ 39.546875 41.84375 41.421875 45.53125 \nQ 43.3125 49.21875 43.3125 52.78125 \nQ 43.3125 58.59375 39.234375 62.25 \nQ 35.15625 65.921875 28.609375 65.921875 \nQ 23.96875 65.921875 18.8125 64.3125 \nQ 13.671875 62.703125 7.8125 59.421875 \nL 7.8125 69.390625 \nQ 13.765625 71.78125 18.9375 73 \nQ 24.125 74.21875 28.421875 74.21875 \nQ 39.75 74.21875 46.484375 68.546875 \nQ 53.21875 62.890625 53.21875 53.421875 \nQ 53.21875 48.921875 51.53125 44.890625 \nQ 49.859375 40.875 45.40625 35.40625 \nQ 44.1875 33.984375 37.640625 27.21875 \nQ 31.109375 20.453125 19.1875 8.296875 \nz\n\" id=\"DejaVuSans-50\"/>\n      </defs>\n      <g transform=\"translate(105.362332 254.356562)scale(0.1 -0.1)\">\n       <use xlink:href=\"#DejaVuSans-50\"/>\n       <use x=\"63.623047\" xlink:href=\"#DejaVuSans-48\"/>\n      </g>\n     </g>\n    </g>\n    <g id=\"xtick_3\">\n     <g id=\"line2d_5\">\n      <path clip-path=\"url(#p538be7c77d)\" d=\"M 173.83986 239.758125 \nL 173.83986 22.318125 \n\" style=\"fill:none;stroke:#b0b0b0;stroke-linecap:square;stroke-width:0.8;\"/>\n     </g>\n     <g id=\"line2d_6\">\n      <g>\n       <use style=\"stroke:#000000;stroke-width:0.8;\" x=\"173.83986\" xlink:href=\"#m592429d17a\" y=\"239.758125\"/>\n      </g>\n     </g>\n     <g id=\"text_3\">\n      <!-- 40 -->\n      <defs>\n       <path d=\"M 37.796875 64.3125 \nL 12.890625 25.390625 \nL 37.796875 25.390625 \nz\nM 35.203125 72.90625 \nL 47.609375 72.90625 \nL 47.609375 25.390625 \nL 58.015625 25.390625 \nL 58.015625 17.1875 \nL 47.609375 17.1875 \nL 47.609375 0 \nL 37.796875 0 \nL 37.796875 17.1875 \nL 4.890625 17.1875 \nL 4.890625 26.703125 \nz\n\" id=\"DejaVuSans-52\"/>\n      </defs>\n      <g transform=\"translate(167.47736 254.356562)scale(0.1 -0.1)\">\n       <use xlink:href=\"#DejaVuSans-52\"/>\n       <use x=\"63.623047\" xlink:href=\"#DejaVuSans-48\"/>\n      </g>\n     </g>\n    </g>\n    <g id=\"xtick_4\">\n     <g id=\"line2d_7\">\n      <path clip-path=\"url(#p538be7c77d)\" d=\"M 235.954888 239.758125 \nL 235.954888 22.318125 \n\" style=\"fill:none;stroke:#b0b0b0;stroke-linecap:square;stroke-width:0.8;\"/>\n     </g>\n     <g id=\"line2d_8\">\n      <g>\n       <use style=\"stroke:#000000;stroke-width:0.8;\" x=\"235.954888\" xlink:href=\"#m592429d17a\" y=\"239.758125\"/>\n      </g>\n     </g>\n     <g id=\"text_4\">\n      <!-- 60 -->\n      <defs>\n       <path d=\"M 33.015625 40.375 \nQ 26.375 40.375 22.484375 35.828125 \nQ 18.609375 31.296875 18.609375 23.390625 \nQ 18.609375 15.53125 22.484375 10.953125 \nQ 26.375 6.390625 33.015625 6.390625 \nQ 39.65625 6.390625 43.53125 10.953125 \nQ 47.40625 15.53125 47.40625 23.390625 \nQ 47.40625 31.296875 43.53125 35.828125 \nQ 39.65625 40.375 33.015625 40.375 \nz\nM 52.59375 71.296875 \nL 52.59375 62.3125 \nQ 48.875 64.0625 45.09375 64.984375 \nQ 41.3125 65.921875 37.59375 65.921875 \nQ 27.828125 65.921875 22.671875 59.328125 \nQ 17.53125 52.734375 16.796875 39.40625 \nQ 19.671875 43.65625 24.015625 45.921875 \nQ 28.375 48.1875 33.59375 48.1875 \nQ 44.578125 48.1875 50.953125 41.515625 \nQ 57.328125 34.859375 57.328125 23.390625 \nQ 57.328125 12.15625 50.6875 5.359375 \nQ 44.046875 -1.421875 33.015625 -1.421875 \nQ 20.359375 -1.421875 13.671875 8.265625 \nQ 6.984375 17.96875 6.984375 36.375 \nQ 6.984375 53.65625 15.1875 63.9375 \nQ 23.390625 74.21875 37.203125 74.21875 \nQ 40.921875 74.21875 44.703125 73.484375 \nQ 48.484375 72.75 52.59375 71.296875 \nz\n\" id=\"DejaVuSans-54\"/>\n      </defs>\n      <g transform=\"translate(229.592388 254.356562)scale(0.1 -0.1)\">\n       <use xlink:href=\"#DejaVuSans-54\"/>\n       <use x=\"63.623047\" xlink:href=\"#DejaVuSans-48\"/>\n      </g>\n     </g>\n    </g>\n    <g id=\"xtick_5\">\n     <g id=\"line2d_9\">\n      <path clip-path=\"url(#p538be7c77d)\" d=\"M 298.069915 239.758125 \nL 298.069915 22.318125 \n\" style=\"fill:none;stroke:#b0b0b0;stroke-linecap:square;stroke-width:0.8;\"/>\n     </g>\n     <g id=\"line2d_10\">\n      <g>\n       <use style=\"stroke:#000000;stroke-width:0.8;\" x=\"298.069915\" xlink:href=\"#m592429d17a\" y=\"239.758125\"/>\n      </g>\n     </g>\n     <g id=\"text_5\">\n      <!-- 80 -->\n      <defs>\n       <path d=\"M 31.78125 34.625 \nQ 24.75 34.625 20.71875 30.859375 \nQ 16.703125 27.09375 16.703125 20.515625 \nQ 16.703125 13.921875 20.71875 10.15625 \nQ 24.75 6.390625 31.78125 6.390625 \nQ 38.8125 6.390625 42.859375 10.171875 \nQ 46.921875 13.96875 46.921875 20.515625 \nQ 46.921875 27.09375 42.890625 30.859375 \nQ 38.875 34.625 31.78125 34.625 \nz\nM 21.921875 38.8125 \nQ 15.578125 40.375 12.03125 44.71875 \nQ 8.5 49.078125 8.5 55.328125 \nQ 8.5 64.0625 14.71875 69.140625 \nQ 20.953125 74.21875 31.78125 74.21875 \nQ 42.671875 74.21875 48.875 69.140625 \nQ 55.078125 64.0625 55.078125 55.328125 \nQ 55.078125 49.078125 51.53125 44.71875 \nQ 48 40.375 41.703125 38.8125 \nQ 48.828125 37.15625 52.796875 32.3125 \nQ 56.78125 27.484375 56.78125 20.515625 \nQ 56.78125 9.90625 50.3125 4.234375 \nQ 43.84375 -1.421875 31.78125 -1.421875 \nQ 19.734375 -1.421875 13.25 4.234375 \nQ 6.78125 9.90625 6.78125 20.515625 \nQ 6.78125 27.484375 10.78125 32.3125 \nQ 14.796875 37.15625 21.921875 38.8125 \nz\nM 18.3125 54.390625 \nQ 18.3125 48.734375 21.84375 45.5625 \nQ 25.390625 42.390625 31.78125 42.390625 \nQ 38.140625 42.390625 41.71875 45.5625 \nQ 45.3125 48.734375 45.3125 54.390625 \nQ 45.3125 60.0625 41.71875 63.234375 \nQ 38.140625 66.40625 31.78125 66.40625 \nQ 25.390625 66.40625 21.84375 63.234375 \nQ 18.3125 60.0625 18.3125 54.390625 \nz\n\" id=\"DejaVuSans-56\"/>\n      </defs>\n      <g transform=\"translate(291.707415 254.356562)scale(0.1 -0.1)\">\n       <use xlink:href=\"#DejaVuSans-56\"/>\n       <use x=\"63.623047\" xlink:href=\"#DejaVuSans-48\"/>\n      </g>\n     </g>\n    </g>\n    <g id=\"xtick_6\">\n     <g id=\"line2d_11\">\n      <path clip-path=\"url(#p538be7c77d)\" d=\"M 360.184943 239.758125 \nL 360.184943 22.318125 \n\" style=\"fill:none;stroke:#b0b0b0;stroke-linecap:square;stroke-width:0.8;\"/>\n     </g>\n     <g id=\"line2d_12\">\n      <g>\n       <use style=\"stroke:#000000;stroke-width:0.8;\" x=\"360.184943\" xlink:href=\"#m592429d17a\" y=\"239.758125\"/>\n      </g>\n     </g>\n     <g id=\"text_6\">\n      <!-- 100 -->\n      <defs>\n       <path d=\"M 12.40625 8.296875 \nL 28.515625 8.296875 \nL 28.515625 63.921875 \nL 10.984375 60.40625 \nL 10.984375 69.390625 \nL 28.421875 72.90625 \nL 38.28125 72.90625 \nL 38.28125 8.296875 \nL 54.390625 8.296875 \nL 54.390625 0 \nL 12.40625 0 \nz\n\" id=\"DejaVuSans-49\"/>\n      </defs>\n      <g transform=\"translate(350.641193 254.356562)scale(0.1 -0.1)\">\n       <use xlink:href=\"#DejaVuSans-49\"/>\n       <use x=\"63.623047\" xlink:href=\"#DejaVuSans-48\"/>\n       <use x=\"127.246094\" xlink:href=\"#DejaVuSans-48\"/>\n      </g>\n     </g>\n    </g>\n    <g id=\"text_7\">\n     <!-- number -->\n     <defs>\n      <path d=\"M 54.890625 33.015625 \nL 54.890625 0 \nL 45.90625 0 \nL 45.90625 32.71875 \nQ 45.90625 40.484375 42.875 44.328125 \nQ 39.84375 48.1875 33.796875 48.1875 \nQ 26.515625 48.1875 22.3125 43.546875 \nQ 18.109375 38.921875 18.109375 30.90625 \nL 18.109375 0 \nL 9.078125 0 \nL 9.078125 54.6875 \nL 18.109375 54.6875 \nL 18.109375 46.1875 \nQ 21.34375 51.125 25.703125 53.5625 \nQ 30.078125 56 35.796875 56 \nQ 45.21875 56 50.046875 50.171875 \nQ 54.890625 44.34375 54.890625 33.015625 \nz\n\" id=\"DejaVuSans-110\"/>\n      <path d=\"M 8.5 21.578125 \nL 8.5 54.6875 \nL 17.484375 54.6875 \nL 17.484375 21.921875 \nQ 17.484375 14.15625 20.5 10.265625 \nQ 23.53125 6.390625 29.59375 6.390625 \nQ 36.859375 6.390625 41.078125 11.03125 \nQ 45.3125 15.671875 45.3125 23.6875 \nL 45.3125 54.6875 \nL 54.296875 54.6875 \nL 54.296875 0 \nL 45.3125 0 \nL 45.3125 8.40625 \nQ 42.046875 3.421875 37.71875 1 \nQ 33.40625 -1.421875 27.6875 -1.421875 \nQ 18.265625 -1.421875 13.375 4.4375 \nQ 8.5 10.296875 8.5 21.578125 \nz\nM 31.109375 56 \nz\n\" id=\"DejaVuSans-117\"/>\n      <path d=\"M 52 44.1875 \nQ 55.375 50.25 60.0625 53.125 \nQ 64.75 56 71.09375 56 \nQ 79.640625 56 84.28125 50.015625 \nQ 88.921875 44.046875 88.921875 33.015625 \nL 88.921875 0 \nL 79.890625 0 \nL 79.890625 32.71875 \nQ 79.890625 40.578125 77.09375 44.375 \nQ 74.3125 48.1875 68.609375 48.1875 \nQ 61.625 48.1875 57.5625 43.546875 \nQ 53.515625 38.921875 53.515625 30.90625 \nL 53.515625 0 \nL 44.484375 0 \nL 44.484375 32.71875 \nQ 44.484375 40.625 41.703125 44.40625 \nQ 38.921875 48.1875 33.109375 48.1875 \nQ 26.21875 48.1875 22.15625 43.53125 \nQ 18.109375 38.875 18.109375 30.90625 \nL 18.109375 0 \nL 9.078125 0 \nL 9.078125 54.6875 \nL 18.109375 54.6875 \nL 18.109375 46.1875 \nQ 21.1875 51.21875 25.484375 53.609375 \nQ 29.78125 56 35.6875 56 \nQ 41.65625 56 45.828125 52.96875 \nQ 50 49.953125 52 44.1875 \nz\n\" id=\"DejaVuSans-109\"/>\n      <path d=\"M 48.6875 27.296875 \nQ 48.6875 37.203125 44.609375 42.84375 \nQ 40.53125 48.484375 33.40625 48.484375 \nQ 26.265625 48.484375 22.1875 42.84375 \nQ 18.109375 37.203125 18.109375 27.296875 \nQ 18.109375 17.390625 22.1875 11.75 \nQ 26.265625 6.109375 33.40625 6.109375 \nQ 40.53125 6.109375 44.609375 11.75 \nQ 48.6875 17.390625 48.6875 27.296875 \nz\nM 18.109375 46.390625 \nQ 20.953125 51.265625 25.265625 53.625 \nQ 29.59375 56 35.59375 56 \nQ 45.5625 56 51.78125 48.09375 \nQ 58.015625 40.1875 58.015625 27.296875 \nQ 58.015625 14.40625 51.78125 6.484375 \nQ 45.5625 -1.421875 35.59375 -1.421875 \nQ 29.59375 -1.421875 25.265625 0.953125 \nQ 20.953125 3.328125 18.109375 8.203125 \nL 18.109375 0 \nL 9.078125 0 \nL 9.078125 75.984375 \nL 18.109375 75.984375 \nz\n\" id=\"DejaVuSans-98\"/>\n      <path d=\"M 56.203125 29.59375 \nL 56.203125 25.203125 \nL 14.890625 25.203125 \nQ 15.484375 15.921875 20.484375 11.0625 \nQ 25.484375 6.203125 34.421875 6.203125 \nQ 39.59375 6.203125 44.453125 7.46875 \nQ 49.3125 8.734375 54.109375 11.28125 \nL 54.109375 2.78125 \nQ 49.265625 0.734375 44.1875 -0.34375 \nQ 39.109375 -1.421875 33.890625 -1.421875 \nQ 20.796875 -1.421875 13.15625 6.1875 \nQ 5.515625 13.8125 5.515625 26.8125 \nQ 5.515625 40.234375 12.765625 48.109375 \nQ 20.015625 56 32.328125 56 \nQ 43.359375 56 49.78125 48.890625 \nQ 56.203125 41.796875 56.203125 29.59375 \nz\nM 47.21875 32.234375 \nQ 47.125 39.59375 43.09375 43.984375 \nQ 39.0625 48.390625 32.421875 48.390625 \nQ 24.90625 48.390625 20.390625 44.140625 \nQ 15.875 39.890625 15.1875 32.171875 \nz\n\" id=\"DejaVuSans-101\"/>\n      <path d=\"M 41.109375 46.296875 \nQ 39.59375 47.171875 37.8125 47.578125 \nQ 36.03125 48 33.890625 48 \nQ 26.265625 48 22.1875 43.046875 \nQ 18.109375 38.09375 18.109375 28.8125 \nL 18.109375 0 \nL 9.078125 0 \nL 9.078125 54.6875 \nL 18.109375 54.6875 \nL 18.109375 46.1875 \nQ 20.953125 51.171875 25.484375 53.578125 \nQ 30.03125 56 36.53125 56 \nQ 37.453125 56 38.578125 55.875 \nQ 39.703125 55.765625 41.0625 55.515625 \nz\n\" id=\"DejaVuSans-114\"/>\n     </defs>\n     <g transform=\"translate(188.489063 268.034687)scale(0.1 -0.1)\">\n      <use xlink:href=\"#DejaVuSans-110\"/>\n      <use x=\"63.378906\" xlink:href=\"#DejaVuSans-117\"/>\n      <use x=\"126.757812\" xlink:href=\"#DejaVuSans-109\"/>\n      <use x=\"224.169922\" xlink:href=\"#DejaVuSans-98\"/>\n      <use x=\"287.646484\" xlink:href=\"#DejaVuSans-101\"/>\n      <use x=\"349.169922\" xlink:href=\"#DejaVuSans-114\"/>\n     </g>\n    </g>\n   </g>\n   <g id=\"matplotlib.axis_2\">\n    <g id=\"ytick_1\">\n     <g id=\"line2d_13\">\n      <path clip-path=\"url(#p538be7c77d)\" d=\"M 40.603125 229.874489 \nL 375.403125 229.874489 \n\" style=\"fill:none;stroke:#b0b0b0;stroke-linecap:square;stroke-width:0.8;\"/>\n     </g>\n     <g id=\"line2d_14\">\n      <defs>\n       <path d=\"M 0 0 \nL -3.5 0 \n\" id=\"m1fbed52099\" style=\"stroke:#000000;stroke-width:0.8;\"/>\n      </defs>\n      <g>\n       <use style=\"stroke:#000000;stroke-width:0.8;\" x=\"40.603125\" xlink:href=\"#m1fbed52099\" y=\"229.874489\"/>\n      </g>\n     </g>\n     <g id=\"text_8\">\n      <!-- 0 -->\n      <g transform=\"translate(27.240625 233.673707)scale(0.1 -0.1)\">\n       <use xlink:href=\"#DejaVuSans-48\"/>\n      </g>\n     </g>\n    </g>\n    <g id=\"ytick_2\">\n     <g id=\"line2d_15\">\n      <path clip-path=\"url(#p538be7c77d)\" d=\"M 40.603125 190.339943 \nL 375.403125 190.339943 \n\" style=\"fill:none;stroke:#b0b0b0;stroke-linecap:square;stroke-width:0.8;\"/>\n     </g>\n     <g id=\"line2d_16\">\n      <g>\n       <use style=\"stroke:#000000;stroke-width:0.8;\" x=\"40.603125\" xlink:href=\"#m1fbed52099\" y=\"190.339943\"/>\n      </g>\n     </g>\n     <g id=\"text_9\">\n      <!-- 2 -->\n      <g transform=\"translate(27.240625 194.139162)scale(0.1 -0.1)\">\n       <use xlink:href=\"#DejaVuSans-50\"/>\n      </g>\n     </g>\n    </g>\n    <g id=\"ytick_3\">\n     <g id=\"line2d_17\">\n      <path clip-path=\"url(#p538be7c77d)\" d=\"M 40.603125 150.805398 \nL 375.403125 150.805398 \n\" style=\"fill:none;stroke:#b0b0b0;stroke-linecap:square;stroke-width:0.8;\"/>\n     </g>\n     <g id=\"line2d_18\">\n      <g>\n       <use style=\"stroke:#000000;stroke-width:0.8;\" x=\"40.603125\" xlink:href=\"#m1fbed52099\" y=\"150.805398\"/>\n      </g>\n     </g>\n     <g id=\"text_10\">\n      <!-- 4 -->\n      <g transform=\"translate(27.240625 154.604616)scale(0.1 -0.1)\">\n       <use xlink:href=\"#DejaVuSans-52\"/>\n      </g>\n     </g>\n    </g>\n    <g id=\"ytick_4\">\n     <g id=\"line2d_19\">\n      <path clip-path=\"url(#p538be7c77d)\" d=\"M 40.603125 111.270852 \nL 375.403125 111.270852 \n\" style=\"fill:none;stroke:#b0b0b0;stroke-linecap:square;stroke-width:0.8;\"/>\n     </g>\n     <g id=\"line2d_20\">\n      <g>\n       <use style=\"stroke:#000000;stroke-width:0.8;\" x=\"40.603125\" xlink:href=\"#m1fbed52099\" y=\"111.270852\"/>\n      </g>\n     </g>\n     <g id=\"text_11\">\n      <!-- 6 -->\n      <g transform=\"translate(27.240625 115.070071)scale(0.1 -0.1)\">\n       <use xlink:href=\"#DejaVuSans-54\"/>\n      </g>\n     </g>\n    </g>\n    <g id=\"ytick_5\">\n     <g id=\"line2d_21\">\n      <path clip-path=\"url(#p538be7c77d)\" d=\"M 40.603125 71.736307 \nL 375.403125 71.736307 \n\" style=\"fill:none;stroke:#b0b0b0;stroke-linecap:square;stroke-width:0.8;\"/>\n     </g>\n     <g id=\"line2d_22\">\n      <g>\n       <use style=\"stroke:#000000;stroke-width:0.8;\" x=\"40.603125\" xlink:href=\"#m1fbed52099\" y=\"71.736307\"/>\n      </g>\n     </g>\n     <g id=\"text_12\">\n      <!-- 8 -->\n      <g transform=\"translate(27.240625 75.535526)scale(0.1 -0.1)\">\n       <use xlink:href=\"#DejaVuSans-56\"/>\n      </g>\n     </g>\n    </g>\n    <g id=\"ytick_6\">\n     <g id=\"line2d_23\">\n      <path clip-path=\"url(#p538be7c77d)\" d=\"M 40.603125 32.201761 \nL 375.403125 32.201761 \n\" style=\"fill:none;stroke:#b0b0b0;stroke-linecap:square;stroke-width:0.8;\"/>\n     </g>\n     <g id=\"line2d_24\">\n      <g>\n       <use style=\"stroke:#000000;stroke-width:0.8;\" x=\"40.603125\" xlink:href=\"#m1fbed52099\" y=\"32.201761\"/>\n      </g>\n     </g>\n     <g id=\"text_13\">\n      <!-- 10 -->\n      <g transform=\"translate(20.878125 36.00098)scale(0.1 -0.1)\">\n       <use xlink:href=\"#DejaVuSans-49\"/>\n       <use x=\"63.623047\" xlink:href=\"#DejaVuSans-48\"/>\n      </g>\n     </g>\n    </g>\n    <g id=\"text_14\">\n     <!-- number of factors -->\n     <defs>\n      <path id=\"DejaVuSans-32\"/>\n      <path d=\"M 30.609375 48.390625 \nQ 23.390625 48.390625 19.1875 42.75 \nQ 14.984375 37.109375 14.984375 27.296875 \nQ 14.984375 17.484375 19.15625 11.84375 \nQ 23.34375 6.203125 30.609375 6.203125 \nQ 37.796875 6.203125 41.984375 11.859375 \nQ 46.1875 17.53125 46.1875 27.296875 \nQ 46.1875 37.015625 41.984375 42.703125 \nQ 37.796875 48.390625 30.609375 48.390625 \nz\nM 30.609375 56 \nQ 42.328125 56 49.015625 48.375 \nQ 55.71875 40.765625 55.71875 27.296875 \nQ 55.71875 13.875 49.015625 6.21875 \nQ 42.328125 -1.421875 30.609375 -1.421875 \nQ 18.84375 -1.421875 12.171875 6.21875 \nQ 5.515625 13.875 5.515625 27.296875 \nQ 5.515625 40.765625 12.171875 48.375 \nQ 18.84375 56 30.609375 56 \nz\n\" id=\"DejaVuSans-111\"/>\n      <path d=\"M 37.109375 75.984375 \nL 37.109375 68.5 \nL 28.515625 68.5 \nQ 23.6875 68.5 21.796875 66.546875 \nQ 19.921875 64.59375 19.921875 59.515625 \nL 19.921875 54.6875 \nL 34.71875 54.6875 \nL 34.71875 47.703125 \nL 19.921875 47.703125 \nL 19.921875 0 \nL 10.890625 0 \nL 10.890625 47.703125 \nL 2.296875 47.703125 \nL 2.296875 54.6875 \nL 10.890625 54.6875 \nL 10.890625 58.5 \nQ 10.890625 67.625 15.140625 71.796875 \nQ 19.390625 75.984375 28.609375 75.984375 \nz\n\" id=\"DejaVuSans-102\"/>\n      <path d=\"M 34.28125 27.484375 \nQ 23.390625 27.484375 19.1875 25 \nQ 14.984375 22.515625 14.984375 16.5 \nQ 14.984375 11.71875 18.140625 8.90625 \nQ 21.296875 6.109375 26.703125 6.109375 \nQ 34.1875 6.109375 38.703125 11.40625 \nQ 43.21875 16.703125 43.21875 25.484375 \nL 43.21875 27.484375 \nz\nM 52.203125 31.203125 \nL 52.203125 0 \nL 43.21875 0 \nL 43.21875 8.296875 \nQ 40.140625 3.328125 35.546875 0.953125 \nQ 30.953125 -1.421875 24.3125 -1.421875 \nQ 15.921875 -1.421875 10.953125 3.296875 \nQ 6 8.015625 6 15.921875 \nQ 6 25.140625 12.171875 29.828125 \nQ 18.359375 34.515625 30.609375 34.515625 \nL 43.21875 34.515625 \nL 43.21875 35.40625 \nQ 43.21875 41.609375 39.140625 45 \nQ 35.0625 48.390625 27.6875 48.390625 \nQ 23 48.390625 18.546875 47.265625 \nQ 14.109375 46.140625 10.015625 43.890625 \nL 10.015625 52.203125 \nQ 14.9375 54.109375 19.578125 55.046875 \nQ 24.21875 56 28.609375 56 \nQ 40.484375 56 46.34375 49.84375 \nQ 52.203125 43.703125 52.203125 31.203125 \nz\n\" id=\"DejaVuSans-97\"/>\n      <path d=\"M 48.78125 52.59375 \nL 48.78125 44.1875 \nQ 44.96875 46.296875 41.140625 47.34375 \nQ 37.3125 48.390625 33.40625 48.390625 \nQ 24.65625 48.390625 19.8125 42.84375 \nQ 14.984375 37.3125 14.984375 27.296875 \nQ 14.984375 17.28125 19.8125 11.734375 \nQ 24.65625 6.203125 33.40625 6.203125 \nQ 37.3125 6.203125 41.140625 7.25 \nQ 44.96875 8.296875 48.78125 10.40625 \nL 48.78125 2.09375 \nQ 45.015625 0.34375 40.984375 -0.53125 \nQ 36.96875 -1.421875 32.421875 -1.421875 \nQ 20.0625 -1.421875 12.78125 6.34375 \nQ 5.515625 14.109375 5.515625 27.296875 \nQ 5.515625 40.671875 12.859375 48.328125 \nQ 20.21875 56 33.015625 56 \nQ 37.15625 56 41.109375 55.140625 \nQ 45.0625 54.296875 48.78125 52.59375 \nz\n\" id=\"DejaVuSans-99\"/>\n      <path d=\"M 18.3125 70.21875 \nL 18.3125 54.6875 \nL 36.8125 54.6875 \nL 36.8125 47.703125 \nL 18.3125 47.703125 \nL 18.3125 18.015625 \nQ 18.3125 11.328125 20.140625 9.421875 \nQ 21.96875 7.515625 27.59375 7.515625 \nL 36.8125 7.515625 \nL 36.8125 0 \nL 27.59375 0 \nQ 17.1875 0 13.234375 3.875 \nQ 9.28125 7.765625 9.28125 18.015625 \nL 9.28125 47.703125 \nL 2.6875 47.703125 \nL 2.6875 54.6875 \nL 9.28125 54.6875 \nL 9.28125 70.21875 \nz\n\" id=\"DejaVuSans-116\"/>\n      <path d=\"M 44.28125 53.078125 \nL 44.28125 44.578125 \nQ 40.484375 46.53125 36.375 47.5 \nQ 32.28125 48.484375 27.875 48.484375 \nQ 21.1875 48.484375 17.84375 46.4375 \nQ 14.5 44.390625 14.5 40.28125 \nQ 14.5 37.15625 16.890625 35.375 \nQ 19.28125 33.59375 26.515625 31.984375 \nL 29.59375 31.296875 \nQ 39.15625 29.25 43.1875 25.515625 \nQ 47.21875 21.78125 47.21875 15.09375 \nQ 47.21875 7.46875 41.1875 3.015625 \nQ 35.15625 -1.421875 24.609375 -1.421875 \nQ 20.21875 -1.421875 15.453125 -0.5625 \nQ 10.6875 0.296875 5.421875 2 \nL 5.421875 11.28125 \nQ 10.40625 8.6875 15.234375 7.390625 \nQ 20.0625 6.109375 24.8125 6.109375 \nQ 31.15625 6.109375 34.5625 8.28125 \nQ 37.984375 10.453125 37.984375 14.40625 \nQ 37.984375 18.0625 35.515625 20.015625 \nQ 33.0625 21.96875 24.703125 23.78125 \nL 21.578125 24.515625 \nQ 13.234375 26.265625 9.515625 29.90625 \nQ 5.8125 33.546875 5.8125 39.890625 \nQ 5.8125 47.609375 11.28125 51.796875 \nQ 16.75 56 26.8125 56 \nQ 31.78125 56 36.171875 55.265625 \nQ 40.578125 54.546875 44.28125 53.078125 \nz\n\" id=\"DejaVuSans-115\"/>\n     </defs>\n     <g transform=\"translate(14.798438 175.802969)rotate(-90)scale(0.1 -0.1)\">\n      <use xlink:href=\"#DejaVuSans-110\"/>\n      <use x=\"63.378906\" xlink:href=\"#DejaVuSans-117\"/>\n      <use x=\"126.757812\" xlink:href=\"#DejaVuSans-109\"/>\n      <use x=\"224.169922\" xlink:href=\"#DejaVuSans-98\"/>\n      <use x=\"287.646484\" xlink:href=\"#DejaVuSans-101\"/>\n      <use x=\"349.169922\" xlink:href=\"#DejaVuSans-114\"/>\n      <use x=\"390.283203\" xlink:href=\"#DejaVuSans-32\"/>\n      <use x=\"422.070312\" xlink:href=\"#DejaVuSans-111\"/>\n      <use x=\"483.251953\" xlink:href=\"#DejaVuSans-102\"/>\n      <use x=\"518.457031\" xlink:href=\"#DejaVuSans-32\"/>\n      <use x=\"550.244141\" xlink:href=\"#DejaVuSans-102\"/>\n      <use x=\"585.449219\" xlink:href=\"#DejaVuSans-97\"/>\n      <use x=\"646.728516\" xlink:href=\"#DejaVuSans-99\"/>\n      <use x=\"701.708984\" xlink:href=\"#DejaVuSans-116\"/>\n      <use x=\"740.917969\" xlink:href=\"#DejaVuSans-111\"/>\n      <use x=\"802.099609\" xlink:href=\"#DejaVuSans-114\"/>\n      <use x=\"843.212891\" xlink:href=\"#DejaVuSans-115\"/>\n     </g>\n    </g>\n   </g>\n   <g id=\"line2d_25\">\n    <path clip-path=\"url(#p538be7c77d)\" d=\"M 55.821307 229.874489 \nL 58.927058 229.874489 \nL 62.03281 210.107216 \nL 65.138561 229.874489 \nL 68.244312 190.339943 \nL 71.350064 229.874489 \nL 74.455815 190.339943 \nL 77.561567 210.107216 \nL 80.667318 190.339943 \nL 83.773069 229.874489 \nL 86.878821 150.805398 \nL 89.984572 229.874489 \nL 93.090324 190.339943 \nL 96.196075 190.339943 \nL 99.301826 170.57267 \nL 102.407578 229.874489 \nL 105.513329 150.805398 \nL 108.61908 229.874489 \nL 111.724832 150.805398 \nL 114.830583 190.339943 \nL 117.936335 190.339943 \nL 121.042086 229.874489 \nL 124.147837 111.270852 \nL 127.253589 210.107216 \nL 130.35934 190.339943 \nL 133.465092 190.339943 \nL 136.570843 150.805398 \nL 139.676594 229.874489 \nL 142.782346 111.270852 \nL 145.888097 229.874489 \nL 148.993849 150.805398 \nL 152.0996 190.339943 \nL 155.205351 190.339943 \nL 158.311103 190.339943 \nL 161.416854 91.50358 \nL 164.522606 229.874489 \nL 167.628357 190.339943 \nL 170.734108 190.339943 \nL 173.83986 111.270852 \nL 176.945611 229.874489 \nL 180.051362 111.270852 \nL 183.157114 229.874489 \nL 186.262865 150.805398 \nL 189.368617 150.805398 \nL 192.474368 190.339943 \nL 195.580119 229.874489 \nL 198.685871 71.736307 \nL 201.791622 210.107216 \nL 204.897374 150.805398 \nL 208.003125 190.339943 \nL 211.108876 150.805398 \nL 214.214628 229.874489 \nL 217.320379 111.270852 \nL 220.426131 190.339943 \nL 223.531882 111.270852 \nL 226.637633 190.339943 \nL 229.743385 190.339943 \nL 232.849136 229.874489 \nL 235.954888 32.201761 \nL 239.060639 229.874489 \nL 242.16639 190.339943 \nL 245.272142 150.805398 \nL 248.377893 131.038125 \nL 251.483644 190.339943 \nL 254.589396 111.270852 \nL 257.695147 229.874489 \nL 260.800899 150.805398 \nL 263.90665 190.339943 \nL 267.012401 111.270852 \nL 270.118153 229.874489 \nL 273.223904 32.201761 \nL 276.329656 229.874489 \nL 279.435407 190.339943 \nL 282.541158 150.805398 \nL 285.64691 150.805398 \nL 288.752661 190.339943 \nL 291.858413 111.270852 \nL 294.964164 229.874489 \nL 298.069915 71.736307 \nL 301.175667 170.57267 \nL 304.281418 190.339943 \nL 307.38717 229.874489 \nL 310.492921 32.201761 \nL 313.598672 190.339943 \nL 316.704424 190.339943 \nL 319.810175 190.339943 \nL 322.915926 111.270852 \nL 326.021678 229.874489 \nL 329.127429 32.201761 \nL 332.233181 190.339943 \nL 335.338932 150.805398 \nL 338.444683 190.339943 \nL 341.550435 190.339943 \nL 344.656186 190.339943 \nL 347.761938 32.201761 \nL 350.867689 229.874489 \nL 353.97344 150.805398 \nL 357.079192 150.805398 \nL 360.184943 91.50358 \n\" style=\"fill:none;stroke:#0000ff;stroke-linecap:square;stroke-width:1.5;\"/>\n    <defs>\n     <path d=\"M 0 3 \nC 0.795609 3 1.55874 2.683901 2.12132 2.12132 \nC 2.683901 1.55874 3 0.795609 3 0 \nC 3 -0.795609 2.683901 -1.55874 2.12132 -2.12132 \nC 1.55874 -2.683901 0.795609 -3 0 -3 \nC -0.795609 -3 -1.55874 -2.683901 -2.12132 -2.12132 \nC -2.683901 -1.55874 -3 -0.795609 -3 0 \nC -3 0.795609 -2.683901 1.55874 -2.12132 2.12132 \nC -1.55874 2.683901 -0.795609 3 0 3 \nz\n\" id=\"mee782e18b8\" style=\"stroke:#0000ff;\"/>\n    </defs>\n    <g clip-path=\"url(#p538be7c77d)\">\n     <use style=\"fill:#0000ff;stroke:#0000ff;\" x=\"55.821307\" xlink:href=\"#mee782e18b8\" y=\"229.874489\"/>\n     <use style=\"fill:#0000ff;stroke:#0000ff;\" x=\"58.927058\" xlink:href=\"#mee782e18b8\" y=\"229.874489\"/>\n     <use style=\"fill:#0000ff;stroke:#0000ff;\" x=\"62.03281\" xlink:href=\"#mee782e18b8\" y=\"210.107216\"/>\n     <use style=\"fill:#0000ff;stroke:#0000ff;\" x=\"65.138561\" xlink:href=\"#mee782e18b8\" y=\"229.874489\"/>\n     <use style=\"fill:#0000ff;stroke:#0000ff;\" x=\"68.244312\" xlink:href=\"#mee782e18b8\" y=\"190.339943\"/>\n     <use style=\"fill:#0000ff;stroke:#0000ff;\" x=\"71.350064\" xlink:href=\"#mee782e18b8\" y=\"229.874489\"/>\n     <use style=\"fill:#0000ff;stroke:#0000ff;\" x=\"74.455815\" xlink:href=\"#mee782e18b8\" y=\"190.339943\"/>\n     <use style=\"fill:#0000ff;stroke:#0000ff;\" x=\"77.561567\" xlink:href=\"#mee782e18b8\" y=\"210.107216\"/>\n     <use style=\"fill:#0000ff;stroke:#0000ff;\" x=\"80.667318\" xlink:href=\"#mee782e18b8\" y=\"190.339943\"/>\n     <use style=\"fill:#0000ff;stroke:#0000ff;\" x=\"83.773069\" xlink:href=\"#mee782e18b8\" y=\"229.874489\"/>\n     <use style=\"fill:#0000ff;stroke:#0000ff;\" x=\"86.878821\" xlink:href=\"#mee782e18b8\" y=\"150.805398\"/>\n     <use style=\"fill:#0000ff;stroke:#0000ff;\" x=\"89.984572\" xlink:href=\"#mee782e18b8\" y=\"229.874489\"/>\n     <use style=\"fill:#0000ff;stroke:#0000ff;\" x=\"93.090324\" xlink:href=\"#mee782e18b8\" y=\"190.339943\"/>\n     <use style=\"fill:#0000ff;stroke:#0000ff;\" x=\"96.196075\" xlink:href=\"#mee782e18b8\" y=\"190.339943\"/>\n     <use style=\"fill:#0000ff;stroke:#0000ff;\" x=\"99.301826\" xlink:href=\"#mee782e18b8\" y=\"170.57267\"/>\n     <use style=\"fill:#0000ff;stroke:#0000ff;\" x=\"102.407578\" xlink:href=\"#mee782e18b8\" y=\"229.874489\"/>\n     <use style=\"fill:#0000ff;stroke:#0000ff;\" x=\"105.513329\" xlink:href=\"#mee782e18b8\" y=\"150.805398\"/>\n     <use style=\"fill:#0000ff;stroke:#0000ff;\" x=\"108.61908\" xlink:href=\"#mee782e18b8\" y=\"229.874489\"/>\n     <use style=\"fill:#0000ff;stroke:#0000ff;\" x=\"111.724832\" xlink:href=\"#mee782e18b8\" y=\"150.805398\"/>\n     <use style=\"fill:#0000ff;stroke:#0000ff;\" x=\"114.830583\" xlink:href=\"#mee782e18b8\" y=\"190.339943\"/>\n     <use style=\"fill:#0000ff;stroke:#0000ff;\" x=\"117.936335\" xlink:href=\"#mee782e18b8\" y=\"190.339943\"/>\n     <use style=\"fill:#0000ff;stroke:#0000ff;\" x=\"121.042086\" xlink:href=\"#mee782e18b8\" y=\"229.874489\"/>\n     <use style=\"fill:#0000ff;stroke:#0000ff;\" x=\"124.147837\" xlink:href=\"#mee782e18b8\" y=\"111.270852\"/>\n     <use style=\"fill:#0000ff;stroke:#0000ff;\" x=\"127.253589\" xlink:href=\"#mee782e18b8\" y=\"210.107216\"/>\n     <use style=\"fill:#0000ff;stroke:#0000ff;\" x=\"130.35934\" xlink:href=\"#mee782e18b8\" y=\"190.339943\"/>\n     <use style=\"fill:#0000ff;stroke:#0000ff;\" x=\"133.465092\" xlink:href=\"#mee782e18b8\" y=\"190.339943\"/>\n     <use style=\"fill:#0000ff;stroke:#0000ff;\" x=\"136.570843\" xlink:href=\"#mee782e18b8\" y=\"150.805398\"/>\n     <use style=\"fill:#0000ff;stroke:#0000ff;\" x=\"139.676594\" xlink:href=\"#mee782e18b8\" y=\"229.874489\"/>\n     <use style=\"fill:#0000ff;stroke:#0000ff;\" x=\"142.782346\" xlink:href=\"#mee782e18b8\" y=\"111.270852\"/>\n     <use style=\"fill:#0000ff;stroke:#0000ff;\" x=\"145.888097\" xlink:href=\"#mee782e18b8\" y=\"229.874489\"/>\n     <use style=\"fill:#0000ff;stroke:#0000ff;\" x=\"148.993849\" xlink:href=\"#mee782e18b8\" y=\"150.805398\"/>\n     <use style=\"fill:#0000ff;stroke:#0000ff;\" x=\"152.0996\" xlink:href=\"#mee782e18b8\" y=\"190.339943\"/>\n     <use style=\"fill:#0000ff;stroke:#0000ff;\" x=\"155.205351\" xlink:href=\"#mee782e18b8\" y=\"190.339943\"/>\n     <use style=\"fill:#0000ff;stroke:#0000ff;\" x=\"158.311103\" xlink:href=\"#mee782e18b8\" y=\"190.339943\"/>\n     <use style=\"fill:#0000ff;stroke:#0000ff;\" x=\"161.416854\" xlink:href=\"#mee782e18b8\" y=\"91.50358\"/>\n     <use style=\"fill:#0000ff;stroke:#0000ff;\" x=\"164.522606\" xlink:href=\"#mee782e18b8\" y=\"229.874489\"/>\n     <use style=\"fill:#0000ff;stroke:#0000ff;\" x=\"167.628357\" xlink:href=\"#mee782e18b8\" y=\"190.339943\"/>\n     <use style=\"fill:#0000ff;stroke:#0000ff;\" x=\"170.734108\" xlink:href=\"#mee782e18b8\" y=\"190.339943\"/>\n     <use style=\"fill:#0000ff;stroke:#0000ff;\" x=\"173.83986\" xlink:href=\"#mee782e18b8\" y=\"111.270852\"/>\n     <use style=\"fill:#0000ff;stroke:#0000ff;\" x=\"176.945611\" xlink:href=\"#mee782e18b8\" y=\"229.874489\"/>\n     <use style=\"fill:#0000ff;stroke:#0000ff;\" x=\"180.051362\" xlink:href=\"#mee782e18b8\" y=\"111.270852\"/>\n     <use style=\"fill:#0000ff;stroke:#0000ff;\" x=\"183.157114\" xlink:href=\"#mee782e18b8\" y=\"229.874489\"/>\n     <use style=\"fill:#0000ff;stroke:#0000ff;\" x=\"186.262865\" xlink:href=\"#mee782e18b8\" y=\"150.805398\"/>\n     <use style=\"fill:#0000ff;stroke:#0000ff;\" x=\"189.368617\" xlink:href=\"#mee782e18b8\" y=\"150.805398\"/>\n     <use style=\"fill:#0000ff;stroke:#0000ff;\" x=\"192.474368\" xlink:href=\"#mee782e18b8\" y=\"190.339943\"/>\n     <use style=\"fill:#0000ff;stroke:#0000ff;\" x=\"195.580119\" xlink:href=\"#mee782e18b8\" y=\"229.874489\"/>\n     <use style=\"fill:#0000ff;stroke:#0000ff;\" x=\"198.685871\" xlink:href=\"#mee782e18b8\" y=\"71.736307\"/>\n     <use style=\"fill:#0000ff;stroke:#0000ff;\" x=\"201.791622\" xlink:href=\"#mee782e18b8\" y=\"210.107216\"/>\n     <use style=\"fill:#0000ff;stroke:#0000ff;\" x=\"204.897374\" xlink:href=\"#mee782e18b8\" y=\"150.805398\"/>\n     <use style=\"fill:#0000ff;stroke:#0000ff;\" x=\"208.003125\" xlink:href=\"#mee782e18b8\" y=\"190.339943\"/>\n     <use style=\"fill:#0000ff;stroke:#0000ff;\" x=\"211.108876\" xlink:href=\"#mee782e18b8\" y=\"150.805398\"/>\n     <use style=\"fill:#0000ff;stroke:#0000ff;\" x=\"214.214628\" xlink:href=\"#mee782e18b8\" y=\"229.874489\"/>\n     <use style=\"fill:#0000ff;stroke:#0000ff;\" x=\"217.320379\" xlink:href=\"#mee782e18b8\" y=\"111.270852\"/>\n     <use style=\"fill:#0000ff;stroke:#0000ff;\" x=\"220.426131\" xlink:href=\"#mee782e18b8\" y=\"190.339943\"/>\n     <use style=\"fill:#0000ff;stroke:#0000ff;\" x=\"223.531882\" xlink:href=\"#mee782e18b8\" y=\"111.270852\"/>\n     <use style=\"fill:#0000ff;stroke:#0000ff;\" x=\"226.637633\" xlink:href=\"#mee782e18b8\" y=\"190.339943\"/>\n     <use style=\"fill:#0000ff;stroke:#0000ff;\" x=\"229.743385\" xlink:href=\"#mee782e18b8\" y=\"190.339943\"/>\n     <use style=\"fill:#0000ff;stroke:#0000ff;\" x=\"232.849136\" xlink:href=\"#mee782e18b8\" y=\"229.874489\"/>\n     <use style=\"fill:#0000ff;stroke:#0000ff;\" x=\"235.954888\" xlink:href=\"#mee782e18b8\" y=\"32.201761\"/>\n     <use style=\"fill:#0000ff;stroke:#0000ff;\" x=\"239.060639\" xlink:href=\"#mee782e18b8\" y=\"229.874489\"/>\n     <use style=\"fill:#0000ff;stroke:#0000ff;\" x=\"242.16639\" xlink:href=\"#mee782e18b8\" y=\"190.339943\"/>\n     <use style=\"fill:#0000ff;stroke:#0000ff;\" x=\"245.272142\" xlink:href=\"#mee782e18b8\" y=\"150.805398\"/>\n     <use style=\"fill:#0000ff;stroke:#0000ff;\" x=\"248.377893\" xlink:href=\"#mee782e18b8\" y=\"131.038125\"/>\n     <use style=\"fill:#0000ff;stroke:#0000ff;\" x=\"251.483644\" xlink:href=\"#mee782e18b8\" y=\"190.339943\"/>\n     <use style=\"fill:#0000ff;stroke:#0000ff;\" x=\"254.589396\" xlink:href=\"#mee782e18b8\" y=\"111.270852\"/>\n     <use style=\"fill:#0000ff;stroke:#0000ff;\" x=\"257.695147\" xlink:href=\"#mee782e18b8\" y=\"229.874489\"/>\n     <use style=\"fill:#0000ff;stroke:#0000ff;\" x=\"260.800899\" xlink:href=\"#mee782e18b8\" y=\"150.805398\"/>\n     <use style=\"fill:#0000ff;stroke:#0000ff;\" x=\"263.90665\" xlink:href=\"#mee782e18b8\" y=\"190.339943\"/>\n     <use style=\"fill:#0000ff;stroke:#0000ff;\" x=\"267.012401\" xlink:href=\"#mee782e18b8\" y=\"111.270852\"/>\n     <use style=\"fill:#0000ff;stroke:#0000ff;\" x=\"270.118153\" xlink:href=\"#mee782e18b8\" y=\"229.874489\"/>\n     <use style=\"fill:#0000ff;stroke:#0000ff;\" x=\"273.223904\" xlink:href=\"#mee782e18b8\" y=\"32.201761\"/>\n     <use style=\"fill:#0000ff;stroke:#0000ff;\" x=\"276.329656\" xlink:href=\"#mee782e18b8\" y=\"229.874489\"/>\n     <use style=\"fill:#0000ff;stroke:#0000ff;\" x=\"279.435407\" xlink:href=\"#mee782e18b8\" y=\"190.339943\"/>\n     <use style=\"fill:#0000ff;stroke:#0000ff;\" x=\"282.541158\" xlink:href=\"#mee782e18b8\" y=\"150.805398\"/>\n     <use style=\"fill:#0000ff;stroke:#0000ff;\" x=\"285.64691\" xlink:href=\"#mee782e18b8\" y=\"150.805398\"/>\n     <use style=\"fill:#0000ff;stroke:#0000ff;\" x=\"288.752661\" xlink:href=\"#mee782e18b8\" y=\"190.339943\"/>\n     <use style=\"fill:#0000ff;stroke:#0000ff;\" x=\"291.858413\" xlink:href=\"#mee782e18b8\" y=\"111.270852\"/>\n     <use style=\"fill:#0000ff;stroke:#0000ff;\" x=\"294.964164\" xlink:href=\"#mee782e18b8\" y=\"229.874489\"/>\n     <use style=\"fill:#0000ff;stroke:#0000ff;\" x=\"298.069915\" xlink:href=\"#mee782e18b8\" y=\"71.736307\"/>\n     <use style=\"fill:#0000ff;stroke:#0000ff;\" x=\"301.175667\" xlink:href=\"#mee782e18b8\" y=\"170.57267\"/>\n     <use style=\"fill:#0000ff;stroke:#0000ff;\" x=\"304.281418\" xlink:href=\"#mee782e18b8\" y=\"190.339943\"/>\n     <use style=\"fill:#0000ff;stroke:#0000ff;\" x=\"307.38717\" xlink:href=\"#mee782e18b8\" y=\"229.874489\"/>\n     <use style=\"fill:#0000ff;stroke:#0000ff;\" x=\"310.492921\" xlink:href=\"#mee782e18b8\" y=\"32.201761\"/>\n     <use style=\"fill:#0000ff;stroke:#0000ff;\" x=\"313.598672\" xlink:href=\"#mee782e18b8\" y=\"190.339943\"/>\n     <use style=\"fill:#0000ff;stroke:#0000ff;\" x=\"316.704424\" xlink:href=\"#mee782e18b8\" y=\"190.339943\"/>\n     <use style=\"fill:#0000ff;stroke:#0000ff;\" x=\"319.810175\" xlink:href=\"#mee782e18b8\" y=\"190.339943\"/>\n     <use style=\"fill:#0000ff;stroke:#0000ff;\" x=\"322.915926\" xlink:href=\"#mee782e18b8\" y=\"111.270852\"/>\n     <use style=\"fill:#0000ff;stroke:#0000ff;\" x=\"326.021678\" xlink:href=\"#mee782e18b8\" y=\"229.874489\"/>\n     <use style=\"fill:#0000ff;stroke:#0000ff;\" x=\"329.127429\" xlink:href=\"#mee782e18b8\" y=\"32.201761\"/>\n     <use style=\"fill:#0000ff;stroke:#0000ff;\" x=\"332.233181\" xlink:href=\"#mee782e18b8\" y=\"190.339943\"/>\n     <use style=\"fill:#0000ff;stroke:#0000ff;\" x=\"335.338932\" xlink:href=\"#mee782e18b8\" y=\"150.805398\"/>\n     <use style=\"fill:#0000ff;stroke:#0000ff;\" x=\"338.444683\" xlink:href=\"#mee782e18b8\" y=\"190.339943\"/>\n     <use style=\"fill:#0000ff;stroke:#0000ff;\" x=\"341.550435\" xlink:href=\"#mee782e18b8\" y=\"190.339943\"/>\n     <use style=\"fill:#0000ff;stroke:#0000ff;\" x=\"344.656186\" xlink:href=\"#mee782e18b8\" y=\"190.339943\"/>\n     <use style=\"fill:#0000ff;stroke:#0000ff;\" x=\"347.761938\" xlink:href=\"#mee782e18b8\" y=\"32.201761\"/>\n     <use style=\"fill:#0000ff;stroke:#0000ff;\" x=\"350.867689\" xlink:href=\"#mee782e18b8\" y=\"229.874489\"/>\n     <use style=\"fill:#0000ff;stroke:#0000ff;\" x=\"353.97344\" xlink:href=\"#mee782e18b8\" y=\"150.805398\"/>\n     <use style=\"fill:#0000ff;stroke:#0000ff;\" x=\"357.079192\" xlink:href=\"#mee782e18b8\" y=\"150.805398\"/>\n     <use style=\"fill:#0000ff;stroke:#0000ff;\" x=\"360.184943\" xlink:href=\"#mee782e18b8\" y=\"91.50358\"/>\n    </g>\n   </g>\n   <g id=\"patch_3\">\n    <path d=\"M 40.603125 239.758125 \nL 40.603125 22.318125 \n\" style=\"fill:none;stroke:#000000;stroke-linecap:square;stroke-linejoin:miter;stroke-width:0.8;\"/>\n   </g>\n   <g id=\"patch_4\">\n    <path d=\"M 375.403125 239.758125 \nL 375.403125 22.318125 \n\" style=\"fill:none;stroke:#000000;stroke-linecap:square;stroke-linejoin:miter;stroke-width:0.8;\"/>\n   </g>\n   <g id=\"patch_5\">\n    <path d=\"M 40.603125 239.758125 \nL 375.403125 239.758125 \n\" style=\"fill:none;stroke:#000000;stroke-linecap:square;stroke-linejoin:miter;stroke-width:0.8;\"/>\n   </g>\n   <g id=\"patch_6\">\n    <path d=\"M 40.603125 22.318125 \nL 375.403125 22.318125 \n\" style=\"fill:none;stroke:#000000;stroke-linecap:square;stroke-linejoin:miter;stroke-width:0.8;\"/>\n   </g>\n   <g id=\"text_15\">\n    <!-- factors of number -->\n    <g transform=\"translate(154.285313 16.318125)scale(0.12 -0.12)\">\n     <use xlink:href=\"#DejaVuSans-102\"/>\n     <use x=\"35.205078\" xlink:href=\"#DejaVuSans-97\"/>\n     <use x=\"96.484375\" xlink:href=\"#DejaVuSans-99\"/>\n     <use x=\"151.464844\" xlink:href=\"#DejaVuSans-116\"/>\n     <use x=\"190.673828\" xlink:href=\"#DejaVuSans-111\"/>\n     <use x=\"251.855469\" xlink:href=\"#DejaVuSans-114\"/>\n     <use x=\"292.96875\" xlink:href=\"#DejaVuSans-115\"/>\n     <use x=\"345.068359\" xlink:href=\"#DejaVuSans-32\"/>\n     <use x=\"376.855469\" xlink:href=\"#DejaVuSans-111\"/>\n     <use x=\"438.037109\" xlink:href=\"#DejaVuSans-102\"/>\n     <use x=\"473.242188\" xlink:href=\"#DejaVuSans-32\"/>\n     <use x=\"505.029297\" xlink:href=\"#DejaVuSans-110\"/>\n     <use x=\"568.408203\" xlink:href=\"#DejaVuSans-117\"/>\n     <use x=\"631.787109\" xlink:href=\"#DejaVuSans-109\"/>\n     <use x=\"729.199219\" xlink:href=\"#DejaVuSans-98\"/>\n     <use x=\"792.675781\" xlink:href=\"#DejaVuSans-101\"/>\n     <use x=\"854.199219\" xlink:href=\"#DejaVuSans-114\"/>\n    </g>\n   </g>\n  </g>\n </g>\n <defs>\n  <clipPath id=\"p538be7c77d\">\n   <rect height=\"217.44\" width=\"334.8\" x=\"40.603125\" y=\"22.318125\"/>\n  </clipPath>\n </defs>\n</svg>\n"
          },
          "metadata": {
            "tags": []
          }
        }
      ]
    },
    {
      "cell_type": "code",
      "metadata": {
        "id": "m5f5iWvryDJf",
        "colab_type": "code",
        "colab": {}
      },
      "source": [
        "?plt.hist"
      ],
      "execution_count": 0,
      "outputs": []
    },
    {
      "cell_type": "markdown",
      "metadata": {
        "id": "v-oJVRvfyDJh",
        "colab_type": "text"
      },
      "source": [
        "Next we will plot a histogram of the number of factors."
      ]
    },
    {
      "cell_type": "code",
      "metadata": {
        "id": "xH3pByN1yDJh",
        "colab_type": "code",
        "outputId": "11fff480-68ac-4b12-9d1d-ac3e68f5e224",
        "colab": {
          "base_uri": "https://localhost:8080/",
          "height": 390
        }
      },
      "source": [
        "binedges = [i-0.5 for i in range(0,12)]    # first get the edges of bins\n",
        "plt.hist(fs, binedges,                     # histogram plot (data, bins)\n",
        "         facecolor='g', alpha=0.75, align='mid')  # appearance options\n",
        "plt.xlabel('Number of factors')\n",
        "plt.ylabel('Count')\n",
        "plt.title('Histogram of number of factors')\n",
        "plt.axis([-0.5, 10.5, 0, 35])  # set the axis (xmin, xmax, ymin, ymax)\n",
        "plt.grid(True)"
      ],
      "execution_count": 0,
      "outputs": [
        {
          "output_type": "display_data",
          "data": {
            "text/plain": [
              "<Figure size 432x288 with 1 Axes>"
            ],
            "image/svg+xml": "<?xml version=\"1.0\" encoding=\"utf-8\" standalone=\"no\"?>\n<!DOCTYPE svg PUBLIC \"-//W3C//DTD SVG 1.1//EN\"\n  \"http://www.w3.org/Graphics/SVG/1.1/DTD/svg11.dtd\">\n<!-- Created with matplotlib (https://matplotlib.org/) -->\n<svg height=\"277.314375pt\" version=\"1.1\" viewBox=\"0 0 382.603125 277.314375\" width=\"382.603125pt\" xmlns=\"http://www.w3.org/2000/svg\" xmlns:xlink=\"http://www.w3.org/1999/xlink\">\n <defs>\n  <style type=\"text/css\">\n*{stroke-linecap:butt;stroke-linejoin:round;}\n  </style>\n </defs>\n <g id=\"figure_1\">\n  <g id=\"patch_1\">\n   <path d=\"M 0 277.314375 \nL 382.603125 277.314375 \nL 382.603125 0 \nL 0 0 \nz\n\" style=\"fill:none;\"/>\n  </g>\n  <g id=\"axes_1\">\n   <g id=\"patch_2\">\n    <path d=\"M 40.603125 239.758125 \nL 375.403125 239.758125 \nL 375.403125 22.318125 \nL 40.603125 22.318125 \nz\n\" style=\"fill:#ffffff;\"/>\n   </g>\n   <g id=\"patch_3\">\n    <path clip-path=\"url(#p58a4782581)\" d=\"M 40.603125 239.758125 \nL 71.039489 239.758125 \nL 71.039489 84.443839 \nL 40.603125 84.443839 \nz\n\" style=\"fill:#008000;opacity:0.75;\"/>\n   </g>\n   <g id=\"patch_4\">\n    <path clip-path=\"url(#p58a4782581)\" d=\"M 71.039489 239.758125 \nL 101.475852 239.758125 \nL 101.475852 214.907839 \nL 71.039489 214.907839 \nz\n\" style=\"fill:#008000;opacity:0.75;\"/>\n   </g>\n   <g id=\"patch_5\">\n    <path clip-path=\"url(#p58a4782581)\" d=\"M 101.475852 239.758125 \nL 131.912216 239.758125 \nL 131.912216 40.955839 \nL 101.475852 40.955839 \nz\n\" style=\"fill:#008000;opacity:0.75;\"/>\n   </g>\n   <g id=\"patch_6\">\n    <path clip-path=\"url(#p58a4782581)\" d=\"M 131.912216 239.758125 \nL 162.34858 239.758125 \nL 162.34858 227.332982 \nL 131.912216 227.332982 \nz\n\" style=\"fill:#008000;opacity:0.75;\"/>\n   </g>\n   <g id=\"patch_7\">\n    <path clip-path=\"url(#p58a4782581)\" d=\"M 162.34858 239.758125 \nL 192.784943 239.758125 \nL 192.784943 140.356982 \nL 162.34858 140.356982 \nz\n\" style=\"fill:#008000;opacity:0.75;\"/>\n   </g>\n   <g id=\"patch_8\">\n    <path clip-path=\"url(#p58a4782581)\" d=\"M 192.784943 239.758125 \nL 223.221307 239.758125 \nL 223.221307 233.545554 \nL 192.784943 233.545554 \nz\n\" style=\"fill:#008000;opacity:0.75;\"/>\n   </g>\n   <g id=\"patch_9\">\n    <path clip-path=\"url(#p58a4782581)\" d=\"M 223.221307 239.758125 \nL 253.65767 239.758125 \nL 253.65767 177.632411 \nL 223.221307 177.632411 \nz\n\" style=\"fill:#008000;opacity:0.75;\"/>\n   </g>\n   <g id=\"patch_10\">\n    <path clip-path=\"url(#p58a4782581)\" d=\"M 253.65767 239.758125 \nL 284.094034 239.758125 \nL 284.094034 227.332982 \nL 253.65767 227.332982 \nz\n\" style=\"fill:#008000;opacity:0.75;\"/>\n   </g>\n   <g id=\"patch_11\">\n    <path clip-path=\"url(#p58a4782581)\" d=\"M 284.094034 239.758125 \nL 314.530398 239.758125 \nL 314.530398 227.332982 \nL 284.094034 227.332982 \nz\n\" style=\"fill:#008000;opacity:0.75;\"/>\n   </g>\n   <g id=\"patch_12\">\n    <path clip-path=\"url(#p58a4782581)\" d=\"M 314.530398 239.758125 \nL 344.966761 239.758125 \nL 344.966761 239.758125 \nL 314.530398 239.758125 \nz\n\" style=\"fill:#008000;opacity:0.75;\"/>\n   </g>\n   <g id=\"patch_13\">\n    <path clip-path=\"url(#p58a4782581)\" d=\"M 344.966761 239.758125 \nL 375.403125 239.758125 \nL 375.403125 208.695268 \nL 344.966761 208.695268 \nz\n\" style=\"fill:#008000;opacity:0.75;\"/>\n   </g>\n   <g id=\"matplotlib.axis_1\">\n    <g id=\"xtick_1\">\n     <g id=\"line2d_1\">\n      <path clip-path=\"url(#p58a4782581)\" d=\"M 55.821307 239.758125 \nL 55.821307 22.318125 \n\" style=\"fill:none;stroke:#b0b0b0;stroke-linecap:square;stroke-width:0.8;\"/>\n     </g>\n     <g id=\"line2d_2\">\n      <defs>\n       <path d=\"M 0 0 \nL 0 3.5 \n\" id=\"m7594dc4157\" style=\"stroke:#000000;stroke-width:0.8;\"/>\n      </defs>\n      <g>\n       <use style=\"stroke:#000000;stroke-width:0.8;\" x=\"55.821307\" xlink:href=\"#m7594dc4157\" y=\"239.758125\"/>\n      </g>\n     </g>\n     <g id=\"text_1\">\n      <!-- 0 -->\n      <defs>\n       <path d=\"M 31.78125 66.40625 \nQ 24.171875 66.40625 20.328125 58.90625 \nQ 16.5 51.421875 16.5 36.375 \nQ 16.5 21.390625 20.328125 13.890625 \nQ 24.171875 6.390625 31.78125 6.390625 \nQ 39.453125 6.390625 43.28125 13.890625 \nQ 47.125 21.390625 47.125 36.375 \nQ 47.125 51.421875 43.28125 58.90625 \nQ 39.453125 66.40625 31.78125 66.40625 \nz\nM 31.78125 74.21875 \nQ 44.046875 74.21875 50.515625 64.515625 \nQ 56.984375 54.828125 56.984375 36.375 \nQ 56.984375 17.96875 50.515625 8.265625 \nQ 44.046875 -1.421875 31.78125 -1.421875 \nQ 19.53125 -1.421875 13.0625 8.265625 \nQ 6.59375 17.96875 6.59375 36.375 \nQ 6.59375 54.828125 13.0625 64.515625 \nQ 19.53125 74.21875 31.78125 74.21875 \nz\n\" id=\"DejaVuSans-48\"/>\n      </defs>\n      <g transform=\"translate(52.640057 254.356562)scale(0.1 -0.1)\">\n       <use xlink:href=\"#DejaVuSans-48\"/>\n      </g>\n     </g>\n    </g>\n    <g id=\"xtick_2\">\n     <g id=\"line2d_3\">\n      <path clip-path=\"url(#p58a4782581)\" d=\"M 116.694034 239.758125 \nL 116.694034 22.318125 \n\" style=\"fill:none;stroke:#b0b0b0;stroke-linecap:square;stroke-width:0.8;\"/>\n     </g>\n     <g id=\"line2d_4\">\n      <g>\n       <use style=\"stroke:#000000;stroke-width:0.8;\" x=\"116.694034\" xlink:href=\"#m7594dc4157\" y=\"239.758125\"/>\n      </g>\n     </g>\n     <g id=\"text_2\">\n      <!-- 2 -->\n      <defs>\n       <path d=\"M 19.1875 8.296875 \nL 53.609375 8.296875 \nL 53.609375 0 \nL 7.328125 0 \nL 7.328125 8.296875 \nQ 12.9375 14.109375 22.625 23.890625 \nQ 32.328125 33.6875 34.8125 36.53125 \nQ 39.546875 41.84375 41.421875 45.53125 \nQ 43.3125 49.21875 43.3125 52.78125 \nQ 43.3125 58.59375 39.234375 62.25 \nQ 35.15625 65.921875 28.609375 65.921875 \nQ 23.96875 65.921875 18.8125 64.3125 \nQ 13.671875 62.703125 7.8125 59.421875 \nL 7.8125 69.390625 \nQ 13.765625 71.78125 18.9375 73 \nQ 24.125 74.21875 28.421875 74.21875 \nQ 39.75 74.21875 46.484375 68.546875 \nQ 53.21875 62.890625 53.21875 53.421875 \nQ 53.21875 48.921875 51.53125 44.890625 \nQ 49.859375 40.875 45.40625 35.40625 \nQ 44.1875 33.984375 37.640625 27.21875 \nQ 31.109375 20.453125 19.1875 8.296875 \nz\n\" id=\"DejaVuSans-50\"/>\n      </defs>\n      <g transform=\"translate(113.512784 254.356562)scale(0.1 -0.1)\">\n       <use xlink:href=\"#DejaVuSans-50\"/>\n      </g>\n     </g>\n    </g>\n    <g id=\"xtick_3\">\n     <g id=\"line2d_5\">\n      <path clip-path=\"url(#p58a4782581)\" d=\"M 177.566761 239.758125 \nL 177.566761 22.318125 \n\" style=\"fill:none;stroke:#b0b0b0;stroke-linecap:square;stroke-width:0.8;\"/>\n     </g>\n     <g id=\"line2d_6\">\n      <g>\n       <use style=\"stroke:#000000;stroke-width:0.8;\" x=\"177.566761\" xlink:href=\"#m7594dc4157\" y=\"239.758125\"/>\n      </g>\n     </g>\n     <g id=\"text_3\">\n      <!-- 4 -->\n      <defs>\n       <path d=\"M 37.796875 64.3125 \nL 12.890625 25.390625 \nL 37.796875 25.390625 \nz\nM 35.203125 72.90625 \nL 47.609375 72.90625 \nL 47.609375 25.390625 \nL 58.015625 25.390625 \nL 58.015625 17.1875 \nL 47.609375 17.1875 \nL 47.609375 0 \nL 37.796875 0 \nL 37.796875 17.1875 \nL 4.890625 17.1875 \nL 4.890625 26.703125 \nz\n\" id=\"DejaVuSans-52\"/>\n      </defs>\n      <g transform=\"translate(174.385511 254.356562)scale(0.1 -0.1)\">\n       <use xlink:href=\"#DejaVuSans-52\"/>\n      </g>\n     </g>\n    </g>\n    <g id=\"xtick_4\">\n     <g id=\"line2d_7\">\n      <path clip-path=\"url(#p58a4782581)\" d=\"M 238.439489 239.758125 \nL 238.439489 22.318125 \n\" style=\"fill:none;stroke:#b0b0b0;stroke-linecap:square;stroke-width:0.8;\"/>\n     </g>\n     <g id=\"line2d_8\">\n      <g>\n       <use style=\"stroke:#000000;stroke-width:0.8;\" x=\"238.439489\" xlink:href=\"#m7594dc4157\" y=\"239.758125\"/>\n      </g>\n     </g>\n     <g id=\"text_4\">\n      <!-- 6 -->\n      <defs>\n       <path d=\"M 33.015625 40.375 \nQ 26.375 40.375 22.484375 35.828125 \nQ 18.609375 31.296875 18.609375 23.390625 \nQ 18.609375 15.53125 22.484375 10.953125 \nQ 26.375 6.390625 33.015625 6.390625 \nQ 39.65625 6.390625 43.53125 10.953125 \nQ 47.40625 15.53125 47.40625 23.390625 \nQ 47.40625 31.296875 43.53125 35.828125 \nQ 39.65625 40.375 33.015625 40.375 \nz\nM 52.59375 71.296875 \nL 52.59375 62.3125 \nQ 48.875 64.0625 45.09375 64.984375 \nQ 41.3125 65.921875 37.59375 65.921875 \nQ 27.828125 65.921875 22.671875 59.328125 \nQ 17.53125 52.734375 16.796875 39.40625 \nQ 19.671875 43.65625 24.015625 45.921875 \nQ 28.375 48.1875 33.59375 48.1875 \nQ 44.578125 48.1875 50.953125 41.515625 \nQ 57.328125 34.859375 57.328125 23.390625 \nQ 57.328125 12.15625 50.6875 5.359375 \nQ 44.046875 -1.421875 33.015625 -1.421875 \nQ 20.359375 -1.421875 13.671875 8.265625 \nQ 6.984375 17.96875 6.984375 36.375 \nQ 6.984375 53.65625 15.1875 63.9375 \nQ 23.390625 74.21875 37.203125 74.21875 \nQ 40.921875 74.21875 44.703125 73.484375 \nQ 48.484375 72.75 52.59375 71.296875 \nz\n\" id=\"DejaVuSans-54\"/>\n      </defs>\n      <g transform=\"translate(235.258239 254.356562)scale(0.1 -0.1)\">\n       <use xlink:href=\"#DejaVuSans-54\"/>\n      </g>\n     </g>\n    </g>\n    <g id=\"xtick_5\">\n     <g id=\"line2d_9\">\n      <path clip-path=\"url(#p58a4782581)\" d=\"M 299.312216 239.758125 \nL 299.312216 22.318125 \n\" style=\"fill:none;stroke:#b0b0b0;stroke-linecap:square;stroke-width:0.8;\"/>\n     </g>\n     <g id=\"line2d_10\">\n      <g>\n       <use style=\"stroke:#000000;stroke-width:0.8;\" x=\"299.312216\" xlink:href=\"#m7594dc4157\" y=\"239.758125\"/>\n      </g>\n     </g>\n     <g id=\"text_5\">\n      <!-- 8 -->\n      <defs>\n       <path d=\"M 31.78125 34.625 \nQ 24.75 34.625 20.71875 30.859375 \nQ 16.703125 27.09375 16.703125 20.515625 \nQ 16.703125 13.921875 20.71875 10.15625 \nQ 24.75 6.390625 31.78125 6.390625 \nQ 38.8125 6.390625 42.859375 10.171875 \nQ 46.921875 13.96875 46.921875 20.515625 \nQ 46.921875 27.09375 42.890625 30.859375 \nQ 38.875 34.625 31.78125 34.625 \nz\nM 21.921875 38.8125 \nQ 15.578125 40.375 12.03125 44.71875 \nQ 8.5 49.078125 8.5 55.328125 \nQ 8.5 64.0625 14.71875 69.140625 \nQ 20.953125 74.21875 31.78125 74.21875 \nQ 42.671875 74.21875 48.875 69.140625 \nQ 55.078125 64.0625 55.078125 55.328125 \nQ 55.078125 49.078125 51.53125 44.71875 \nQ 48 40.375 41.703125 38.8125 \nQ 48.828125 37.15625 52.796875 32.3125 \nQ 56.78125 27.484375 56.78125 20.515625 \nQ 56.78125 9.90625 50.3125 4.234375 \nQ 43.84375 -1.421875 31.78125 -1.421875 \nQ 19.734375 -1.421875 13.25 4.234375 \nQ 6.78125 9.90625 6.78125 20.515625 \nQ 6.78125 27.484375 10.78125 32.3125 \nQ 14.796875 37.15625 21.921875 38.8125 \nz\nM 18.3125 54.390625 \nQ 18.3125 48.734375 21.84375 45.5625 \nQ 25.390625 42.390625 31.78125 42.390625 \nQ 38.140625 42.390625 41.71875 45.5625 \nQ 45.3125 48.734375 45.3125 54.390625 \nQ 45.3125 60.0625 41.71875 63.234375 \nQ 38.140625 66.40625 31.78125 66.40625 \nQ 25.390625 66.40625 21.84375 63.234375 \nQ 18.3125 60.0625 18.3125 54.390625 \nz\n\" id=\"DejaVuSans-56\"/>\n      </defs>\n      <g transform=\"translate(296.130966 254.356562)scale(0.1 -0.1)\">\n       <use xlink:href=\"#DejaVuSans-56\"/>\n      </g>\n     </g>\n    </g>\n    <g id=\"xtick_6\">\n     <g id=\"line2d_11\">\n      <path clip-path=\"url(#p58a4782581)\" d=\"M 360.184943 239.758125 \nL 360.184943 22.318125 \n\" style=\"fill:none;stroke:#b0b0b0;stroke-linecap:square;stroke-width:0.8;\"/>\n     </g>\n     <g id=\"line2d_12\">\n      <g>\n       <use style=\"stroke:#000000;stroke-width:0.8;\" x=\"360.184943\" xlink:href=\"#m7594dc4157\" y=\"239.758125\"/>\n      </g>\n     </g>\n     <g id=\"text_6\">\n      <!-- 10 -->\n      <defs>\n       <path d=\"M 12.40625 8.296875 \nL 28.515625 8.296875 \nL 28.515625 63.921875 \nL 10.984375 60.40625 \nL 10.984375 69.390625 \nL 28.421875 72.90625 \nL 38.28125 72.90625 \nL 38.28125 8.296875 \nL 54.390625 8.296875 \nL 54.390625 0 \nL 12.40625 0 \nz\n\" id=\"DejaVuSans-49\"/>\n      </defs>\n      <g transform=\"translate(353.822443 254.356562)scale(0.1 -0.1)\">\n       <use xlink:href=\"#DejaVuSans-49\"/>\n       <use x=\"63.623047\" xlink:href=\"#DejaVuSans-48\"/>\n      </g>\n     </g>\n    </g>\n    <g id=\"text_7\">\n     <!-- Number of factors -->\n     <defs>\n      <path d=\"M 9.8125 72.90625 \nL 23.09375 72.90625 \nL 55.421875 11.921875 \nL 55.421875 72.90625 \nL 64.984375 72.90625 \nL 64.984375 0 \nL 51.703125 0 \nL 19.390625 60.984375 \nL 19.390625 0 \nL 9.8125 0 \nz\n\" id=\"DejaVuSans-78\"/>\n      <path d=\"M 8.5 21.578125 \nL 8.5 54.6875 \nL 17.484375 54.6875 \nL 17.484375 21.921875 \nQ 17.484375 14.15625 20.5 10.265625 \nQ 23.53125 6.390625 29.59375 6.390625 \nQ 36.859375 6.390625 41.078125 11.03125 \nQ 45.3125 15.671875 45.3125 23.6875 \nL 45.3125 54.6875 \nL 54.296875 54.6875 \nL 54.296875 0 \nL 45.3125 0 \nL 45.3125 8.40625 \nQ 42.046875 3.421875 37.71875 1 \nQ 33.40625 -1.421875 27.6875 -1.421875 \nQ 18.265625 -1.421875 13.375 4.4375 \nQ 8.5 10.296875 8.5 21.578125 \nz\nM 31.109375 56 \nz\n\" id=\"DejaVuSans-117\"/>\n      <path d=\"M 52 44.1875 \nQ 55.375 50.25 60.0625 53.125 \nQ 64.75 56 71.09375 56 \nQ 79.640625 56 84.28125 50.015625 \nQ 88.921875 44.046875 88.921875 33.015625 \nL 88.921875 0 \nL 79.890625 0 \nL 79.890625 32.71875 \nQ 79.890625 40.578125 77.09375 44.375 \nQ 74.3125 48.1875 68.609375 48.1875 \nQ 61.625 48.1875 57.5625 43.546875 \nQ 53.515625 38.921875 53.515625 30.90625 \nL 53.515625 0 \nL 44.484375 0 \nL 44.484375 32.71875 \nQ 44.484375 40.625 41.703125 44.40625 \nQ 38.921875 48.1875 33.109375 48.1875 \nQ 26.21875 48.1875 22.15625 43.53125 \nQ 18.109375 38.875 18.109375 30.90625 \nL 18.109375 0 \nL 9.078125 0 \nL 9.078125 54.6875 \nL 18.109375 54.6875 \nL 18.109375 46.1875 \nQ 21.1875 51.21875 25.484375 53.609375 \nQ 29.78125 56 35.6875 56 \nQ 41.65625 56 45.828125 52.96875 \nQ 50 49.953125 52 44.1875 \nz\n\" id=\"DejaVuSans-109\"/>\n      <path d=\"M 48.6875 27.296875 \nQ 48.6875 37.203125 44.609375 42.84375 \nQ 40.53125 48.484375 33.40625 48.484375 \nQ 26.265625 48.484375 22.1875 42.84375 \nQ 18.109375 37.203125 18.109375 27.296875 \nQ 18.109375 17.390625 22.1875 11.75 \nQ 26.265625 6.109375 33.40625 6.109375 \nQ 40.53125 6.109375 44.609375 11.75 \nQ 48.6875 17.390625 48.6875 27.296875 \nz\nM 18.109375 46.390625 \nQ 20.953125 51.265625 25.265625 53.625 \nQ 29.59375 56 35.59375 56 \nQ 45.5625 56 51.78125 48.09375 \nQ 58.015625 40.1875 58.015625 27.296875 \nQ 58.015625 14.40625 51.78125 6.484375 \nQ 45.5625 -1.421875 35.59375 -1.421875 \nQ 29.59375 -1.421875 25.265625 0.953125 \nQ 20.953125 3.328125 18.109375 8.203125 \nL 18.109375 0 \nL 9.078125 0 \nL 9.078125 75.984375 \nL 18.109375 75.984375 \nz\n\" id=\"DejaVuSans-98\"/>\n      <path d=\"M 56.203125 29.59375 \nL 56.203125 25.203125 \nL 14.890625 25.203125 \nQ 15.484375 15.921875 20.484375 11.0625 \nQ 25.484375 6.203125 34.421875 6.203125 \nQ 39.59375 6.203125 44.453125 7.46875 \nQ 49.3125 8.734375 54.109375 11.28125 \nL 54.109375 2.78125 \nQ 49.265625 0.734375 44.1875 -0.34375 \nQ 39.109375 -1.421875 33.890625 -1.421875 \nQ 20.796875 -1.421875 13.15625 6.1875 \nQ 5.515625 13.8125 5.515625 26.8125 \nQ 5.515625 40.234375 12.765625 48.109375 \nQ 20.015625 56 32.328125 56 \nQ 43.359375 56 49.78125 48.890625 \nQ 56.203125 41.796875 56.203125 29.59375 \nz\nM 47.21875 32.234375 \nQ 47.125 39.59375 43.09375 43.984375 \nQ 39.0625 48.390625 32.421875 48.390625 \nQ 24.90625 48.390625 20.390625 44.140625 \nQ 15.875 39.890625 15.1875 32.171875 \nz\n\" id=\"DejaVuSans-101\"/>\n      <path d=\"M 41.109375 46.296875 \nQ 39.59375 47.171875 37.8125 47.578125 \nQ 36.03125 48 33.890625 48 \nQ 26.265625 48 22.1875 43.046875 \nQ 18.109375 38.09375 18.109375 28.8125 \nL 18.109375 0 \nL 9.078125 0 \nL 9.078125 54.6875 \nL 18.109375 54.6875 \nL 18.109375 46.1875 \nQ 20.953125 51.171875 25.484375 53.578125 \nQ 30.03125 56 36.53125 56 \nQ 37.453125 56 38.578125 55.875 \nQ 39.703125 55.765625 41.0625 55.515625 \nz\n\" id=\"DejaVuSans-114\"/>\n      <path id=\"DejaVuSans-32\"/>\n      <path d=\"M 30.609375 48.390625 \nQ 23.390625 48.390625 19.1875 42.75 \nQ 14.984375 37.109375 14.984375 27.296875 \nQ 14.984375 17.484375 19.15625 11.84375 \nQ 23.34375 6.203125 30.609375 6.203125 \nQ 37.796875 6.203125 41.984375 11.859375 \nQ 46.1875 17.53125 46.1875 27.296875 \nQ 46.1875 37.015625 41.984375 42.703125 \nQ 37.796875 48.390625 30.609375 48.390625 \nz\nM 30.609375 56 \nQ 42.328125 56 49.015625 48.375 \nQ 55.71875 40.765625 55.71875 27.296875 \nQ 55.71875 13.875 49.015625 6.21875 \nQ 42.328125 -1.421875 30.609375 -1.421875 \nQ 18.84375 -1.421875 12.171875 6.21875 \nQ 5.515625 13.875 5.515625 27.296875 \nQ 5.515625 40.765625 12.171875 48.375 \nQ 18.84375 56 30.609375 56 \nz\n\" id=\"DejaVuSans-111\"/>\n      <path d=\"M 37.109375 75.984375 \nL 37.109375 68.5 \nL 28.515625 68.5 \nQ 23.6875 68.5 21.796875 66.546875 \nQ 19.921875 64.59375 19.921875 59.515625 \nL 19.921875 54.6875 \nL 34.71875 54.6875 \nL 34.71875 47.703125 \nL 19.921875 47.703125 \nL 19.921875 0 \nL 10.890625 0 \nL 10.890625 47.703125 \nL 2.296875 47.703125 \nL 2.296875 54.6875 \nL 10.890625 54.6875 \nL 10.890625 58.5 \nQ 10.890625 67.625 15.140625 71.796875 \nQ 19.390625 75.984375 28.609375 75.984375 \nz\n\" id=\"DejaVuSans-102\"/>\n      <path d=\"M 34.28125 27.484375 \nQ 23.390625 27.484375 19.1875 25 \nQ 14.984375 22.515625 14.984375 16.5 \nQ 14.984375 11.71875 18.140625 8.90625 \nQ 21.296875 6.109375 26.703125 6.109375 \nQ 34.1875 6.109375 38.703125 11.40625 \nQ 43.21875 16.703125 43.21875 25.484375 \nL 43.21875 27.484375 \nz\nM 52.203125 31.203125 \nL 52.203125 0 \nL 43.21875 0 \nL 43.21875 8.296875 \nQ 40.140625 3.328125 35.546875 0.953125 \nQ 30.953125 -1.421875 24.3125 -1.421875 \nQ 15.921875 -1.421875 10.953125 3.296875 \nQ 6 8.015625 6 15.921875 \nQ 6 25.140625 12.171875 29.828125 \nQ 18.359375 34.515625 30.609375 34.515625 \nL 43.21875 34.515625 \nL 43.21875 35.40625 \nQ 43.21875 41.609375 39.140625 45 \nQ 35.0625 48.390625 27.6875 48.390625 \nQ 23 48.390625 18.546875 47.265625 \nQ 14.109375 46.140625 10.015625 43.890625 \nL 10.015625 52.203125 \nQ 14.9375 54.109375 19.578125 55.046875 \nQ 24.21875 56 28.609375 56 \nQ 40.484375 56 46.34375 49.84375 \nQ 52.203125 43.703125 52.203125 31.203125 \nz\n\" id=\"DejaVuSans-97\"/>\n      <path d=\"M 48.78125 52.59375 \nL 48.78125 44.1875 \nQ 44.96875 46.296875 41.140625 47.34375 \nQ 37.3125 48.390625 33.40625 48.390625 \nQ 24.65625 48.390625 19.8125 42.84375 \nQ 14.984375 37.3125 14.984375 27.296875 \nQ 14.984375 17.28125 19.8125 11.734375 \nQ 24.65625 6.203125 33.40625 6.203125 \nQ 37.3125 6.203125 41.140625 7.25 \nQ 44.96875 8.296875 48.78125 10.40625 \nL 48.78125 2.09375 \nQ 45.015625 0.34375 40.984375 -0.53125 \nQ 36.96875 -1.421875 32.421875 -1.421875 \nQ 20.0625 -1.421875 12.78125 6.34375 \nQ 5.515625 14.109375 5.515625 27.296875 \nQ 5.515625 40.671875 12.859375 48.328125 \nQ 20.21875 56 33.015625 56 \nQ 37.15625 56 41.109375 55.140625 \nQ 45.0625 54.296875 48.78125 52.59375 \nz\n\" id=\"DejaVuSans-99\"/>\n      <path d=\"M 18.3125 70.21875 \nL 18.3125 54.6875 \nL 36.8125 54.6875 \nL 36.8125 47.703125 \nL 18.3125 47.703125 \nL 18.3125 18.015625 \nQ 18.3125 11.328125 20.140625 9.421875 \nQ 21.96875 7.515625 27.59375 7.515625 \nL 36.8125 7.515625 \nL 36.8125 0 \nL 27.59375 0 \nQ 17.1875 0 13.234375 3.875 \nQ 9.28125 7.765625 9.28125 18.015625 \nL 9.28125 47.703125 \nL 2.6875 47.703125 \nL 2.6875 54.6875 \nL 9.28125 54.6875 \nL 9.28125 70.21875 \nz\n\" id=\"DejaVuSans-116\"/>\n      <path d=\"M 44.28125 53.078125 \nL 44.28125 44.578125 \nQ 40.484375 46.53125 36.375 47.5 \nQ 32.28125 48.484375 27.875 48.484375 \nQ 21.1875 48.484375 17.84375 46.4375 \nQ 14.5 44.390625 14.5 40.28125 \nQ 14.5 37.15625 16.890625 35.375 \nQ 19.28125 33.59375 26.515625 31.984375 \nL 29.59375 31.296875 \nQ 39.15625 29.25 43.1875 25.515625 \nQ 47.21875 21.78125 47.21875 15.09375 \nQ 47.21875 7.46875 41.1875 3.015625 \nQ 35.15625 -1.421875 24.609375 -1.421875 \nQ 20.21875 -1.421875 15.453125 -0.5625 \nQ 10.6875 0.296875 5.421875 2 \nL 5.421875 11.28125 \nQ 10.40625 8.6875 15.234375 7.390625 \nQ 20.0625 6.109375 24.8125 6.109375 \nQ 31.15625 6.109375 34.5625 8.28125 \nQ 37.984375 10.453125 37.984375 14.40625 \nQ 37.984375 18.0625 35.515625 20.015625 \nQ 33.0625 21.96875 24.703125 23.78125 \nL 21.578125 24.515625 \nQ 13.234375 26.265625 9.515625 29.90625 \nQ 5.8125 33.546875 5.8125 39.890625 \nQ 5.8125 47.609375 11.28125 51.796875 \nQ 16.75 56 26.8125 56 \nQ 31.78125 56 36.171875 55.265625 \nQ 40.578125 54.546875 44.28125 53.078125 \nz\n\" id=\"DejaVuSans-115\"/>\n     </defs>\n     <g transform=\"translate(162.666406 268.034687)scale(0.1 -0.1)\">\n      <use xlink:href=\"#DejaVuSans-78\"/>\n      <use x=\"74.804688\" xlink:href=\"#DejaVuSans-117\"/>\n      <use x=\"138.183594\" xlink:href=\"#DejaVuSans-109\"/>\n      <use x=\"235.595703\" xlink:href=\"#DejaVuSans-98\"/>\n      <use x=\"299.072266\" xlink:href=\"#DejaVuSans-101\"/>\n      <use x=\"360.595703\" xlink:href=\"#DejaVuSans-114\"/>\n      <use x=\"401.708984\" xlink:href=\"#DejaVuSans-32\"/>\n      <use x=\"433.496094\" xlink:href=\"#DejaVuSans-111\"/>\n      <use x=\"494.677734\" xlink:href=\"#DejaVuSans-102\"/>\n      <use x=\"529.882812\" xlink:href=\"#DejaVuSans-32\"/>\n      <use x=\"561.669922\" xlink:href=\"#DejaVuSans-102\"/>\n      <use x=\"596.875\" xlink:href=\"#DejaVuSans-97\"/>\n      <use x=\"658.154297\" xlink:href=\"#DejaVuSans-99\"/>\n      <use x=\"713.134766\" xlink:href=\"#DejaVuSans-116\"/>\n      <use x=\"752.34375\" xlink:href=\"#DejaVuSans-111\"/>\n      <use x=\"813.525391\" xlink:href=\"#DejaVuSans-114\"/>\n      <use x=\"854.638672\" xlink:href=\"#DejaVuSans-115\"/>\n     </g>\n    </g>\n   </g>\n   <g id=\"matplotlib.axis_2\">\n    <g id=\"ytick_1\">\n     <g id=\"line2d_13\">\n      <path clip-path=\"url(#p58a4782581)\" d=\"M 40.603125 239.758125 \nL 375.403125 239.758125 \n\" style=\"fill:none;stroke:#b0b0b0;stroke-linecap:square;stroke-width:0.8;\"/>\n     </g>\n     <g id=\"line2d_14\">\n      <defs>\n       <path d=\"M 0 0 \nL -3.5 0 \n\" id=\"m011f444dc0\" style=\"stroke:#000000;stroke-width:0.8;\"/>\n      </defs>\n      <g>\n       <use style=\"stroke:#000000;stroke-width:0.8;\" x=\"40.603125\" xlink:href=\"#m011f444dc0\" y=\"239.758125\"/>\n      </g>\n     </g>\n     <g id=\"text_8\">\n      <!-- 0 -->\n      <g transform=\"translate(27.240625 243.557344)scale(0.1 -0.1)\">\n       <use xlink:href=\"#DejaVuSans-48\"/>\n      </g>\n     </g>\n    </g>\n    <g id=\"ytick_2\">\n     <g id=\"line2d_15\">\n      <path clip-path=\"url(#p58a4782581)\" d=\"M 40.603125 208.695268 \nL 375.403125 208.695268 \n\" style=\"fill:none;stroke:#b0b0b0;stroke-linecap:square;stroke-width:0.8;\"/>\n     </g>\n     <g id=\"line2d_16\">\n      <g>\n       <use style=\"stroke:#000000;stroke-width:0.8;\" x=\"40.603125\" xlink:href=\"#m011f444dc0\" y=\"208.695268\"/>\n      </g>\n     </g>\n     <g id=\"text_9\">\n      <!-- 5 -->\n      <defs>\n       <path d=\"M 10.796875 72.90625 \nL 49.515625 72.90625 \nL 49.515625 64.59375 \nL 19.828125 64.59375 \nL 19.828125 46.734375 \nQ 21.96875 47.46875 24.109375 47.828125 \nQ 26.265625 48.1875 28.421875 48.1875 \nQ 40.625 48.1875 47.75 41.5 \nQ 54.890625 34.8125 54.890625 23.390625 \nQ 54.890625 11.625 47.5625 5.09375 \nQ 40.234375 -1.421875 26.90625 -1.421875 \nQ 22.3125 -1.421875 17.546875 -0.640625 \nQ 12.796875 0.140625 7.71875 1.703125 \nL 7.71875 11.625 \nQ 12.109375 9.234375 16.796875 8.0625 \nQ 21.484375 6.890625 26.703125 6.890625 \nQ 35.15625 6.890625 40.078125 11.328125 \nQ 45.015625 15.765625 45.015625 23.390625 \nQ 45.015625 31 40.078125 35.4375 \nQ 35.15625 39.890625 26.703125 39.890625 \nQ 22.75 39.890625 18.8125 39.015625 \nQ 14.890625 38.140625 10.796875 36.28125 \nz\n\" id=\"DejaVuSans-53\"/>\n      </defs>\n      <g transform=\"translate(27.240625 212.494487)scale(0.1 -0.1)\">\n       <use xlink:href=\"#DejaVuSans-53\"/>\n      </g>\n     </g>\n    </g>\n    <g id=\"ytick_3\">\n     <g id=\"line2d_17\">\n      <path clip-path=\"url(#p58a4782581)\" d=\"M 40.603125 177.632411 \nL 375.403125 177.632411 \n\" style=\"fill:none;stroke:#b0b0b0;stroke-linecap:square;stroke-width:0.8;\"/>\n     </g>\n     <g id=\"line2d_18\">\n      <g>\n       <use style=\"stroke:#000000;stroke-width:0.8;\" x=\"40.603125\" xlink:href=\"#m011f444dc0\" y=\"177.632411\"/>\n      </g>\n     </g>\n     <g id=\"text_10\">\n      <!-- 10 -->\n      <g transform=\"translate(20.878125 181.431629)scale(0.1 -0.1)\">\n       <use xlink:href=\"#DejaVuSans-49\"/>\n       <use x=\"63.623047\" xlink:href=\"#DejaVuSans-48\"/>\n      </g>\n     </g>\n    </g>\n    <g id=\"ytick_4\">\n     <g id=\"line2d_19\">\n      <path clip-path=\"url(#p58a4782581)\" d=\"M 40.603125 146.569554 \nL 375.403125 146.569554 \n\" style=\"fill:none;stroke:#b0b0b0;stroke-linecap:square;stroke-width:0.8;\"/>\n     </g>\n     <g id=\"line2d_20\">\n      <g>\n       <use style=\"stroke:#000000;stroke-width:0.8;\" x=\"40.603125\" xlink:href=\"#m011f444dc0\" y=\"146.569554\"/>\n      </g>\n     </g>\n     <g id=\"text_11\">\n      <!-- 15 -->\n      <g transform=\"translate(20.878125 150.368772)scale(0.1 -0.1)\">\n       <use xlink:href=\"#DejaVuSans-49\"/>\n       <use x=\"63.623047\" xlink:href=\"#DejaVuSans-53\"/>\n      </g>\n     </g>\n    </g>\n    <g id=\"ytick_5\">\n     <g id=\"line2d_21\">\n      <path clip-path=\"url(#p58a4782581)\" d=\"M 40.603125 115.506696 \nL 375.403125 115.506696 \n\" style=\"fill:none;stroke:#b0b0b0;stroke-linecap:square;stroke-width:0.8;\"/>\n     </g>\n     <g id=\"line2d_22\">\n      <g>\n       <use style=\"stroke:#000000;stroke-width:0.8;\" x=\"40.603125\" xlink:href=\"#m011f444dc0\" y=\"115.506696\"/>\n      </g>\n     </g>\n     <g id=\"text_12\">\n      <!-- 20 -->\n      <g transform=\"translate(20.878125 119.305915)scale(0.1 -0.1)\">\n       <use xlink:href=\"#DejaVuSans-50\"/>\n       <use x=\"63.623047\" xlink:href=\"#DejaVuSans-48\"/>\n      </g>\n     </g>\n    </g>\n    <g id=\"ytick_6\">\n     <g id=\"line2d_23\">\n      <path clip-path=\"url(#p58a4782581)\" d=\"M 40.603125 84.443839 \nL 375.403125 84.443839 \n\" style=\"fill:none;stroke:#b0b0b0;stroke-linecap:square;stroke-width:0.8;\"/>\n     </g>\n     <g id=\"line2d_24\">\n      <g>\n       <use style=\"stroke:#000000;stroke-width:0.8;\" x=\"40.603125\" xlink:href=\"#m011f444dc0\" y=\"84.443839\"/>\n      </g>\n     </g>\n     <g id=\"text_13\">\n      <!-- 25 -->\n      <g transform=\"translate(20.878125 88.243058)scale(0.1 -0.1)\">\n       <use xlink:href=\"#DejaVuSans-50\"/>\n       <use x=\"63.623047\" xlink:href=\"#DejaVuSans-53\"/>\n      </g>\n     </g>\n    </g>\n    <g id=\"ytick_7\">\n     <g id=\"line2d_25\">\n      <path clip-path=\"url(#p58a4782581)\" d=\"M 40.603125 53.380982 \nL 375.403125 53.380982 \n\" style=\"fill:none;stroke:#b0b0b0;stroke-linecap:square;stroke-width:0.8;\"/>\n     </g>\n     <g id=\"line2d_26\">\n      <g>\n       <use style=\"stroke:#000000;stroke-width:0.8;\" x=\"40.603125\" xlink:href=\"#m011f444dc0\" y=\"53.380982\"/>\n      </g>\n     </g>\n     <g id=\"text_14\">\n      <!-- 30 -->\n      <defs>\n       <path d=\"M 40.578125 39.3125 \nQ 47.65625 37.796875 51.625 33 \nQ 55.609375 28.21875 55.609375 21.1875 \nQ 55.609375 10.40625 48.1875 4.484375 \nQ 40.765625 -1.421875 27.09375 -1.421875 \nQ 22.515625 -1.421875 17.65625 -0.515625 \nQ 12.796875 0.390625 7.625 2.203125 \nL 7.625 11.71875 \nQ 11.71875 9.328125 16.59375 8.109375 \nQ 21.484375 6.890625 26.8125 6.890625 \nQ 36.078125 6.890625 40.9375 10.546875 \nQ 45.796875 14.203125 45.796875 21.1875 \nQ 45.796875 27.640625 41.28125 31.265625 \nQ 36.765625 34.90625 28.71875 34.90625 \nL 20.21875 34.90625 \nL 20.21875 43.015625 \nL 29.109375 43.015625 \nQ 36.375 43.015625 40.234375 45.921875 \nQ 44.09375 48.828125 44.09375 54.296875 \nQ 44.09375 59.90625 40.109375 62.90625 \nQ 36.140625 65.921875 28.71875 65.921875 \nQ 24.65625 65.921875 20.015625 65.03125 \nQ 15.375 64.15625 9.8125 62.3125 \nL 9.8125 71.09375 \nQ 15.4375 72.65625 20.34375 73.4375 \nQ 25.25 74.21875 29.59375 74.21875 \nQ 40.828125 74.21875 47.359375 69.109375 \nQ 53.90625 64.015625 53.90625 55.328125 \nQ 53.90625 49.265625 50.4375 45.09375 \nQ 46.96875 40.921875 40.578125 39.3125 \nz\n\" id=\"DejaVuSans-51\"/>\n      </defs>\n      <g transform=\"translate(20.878125 57.180201)scale(0.1 -0.1)\">\n       <use xlink:href=\"#DejaVuSans-51\"/>\n       <use x=\"63.623047\" xlink:href=\"#DejaVuSans-48\"/>\n      </g>\n     </g>\n    </g>\n    <g id=\"ytick_8\">\n     <g id=\"line2d_27\">\n      <path clip-path=\"url(#p58a4782581)\" d=\"M 40.603125 22.318125 \nL 375.403125 22.318125 \n\" style=\"fill:none;stroke:#b0b0b0;stroke-linecap:square;stroke-width:0.8;\"/>\n     </g>\n     <g id=\"line2d_28\">\n      <g>\n       <use style=\"stroke:#000000;stroke-width:0.8;\" x=\"40.603125\" xlink:href=\"#m011f444dc0\" y=\"22.318125\"/>\n      </g>\n     </g>\n     <g id=\"text_15\">\n      <!-- 35 -->\n      <g transform=\"translate(20.878125 26.117344)scale(0.1 -0.1)\">\n       <use xlink:href=\"#DejaVuSans-51\"/>\n       <use x=\"63.623047\" xlink:href=\"#DejaVuSans-53\"/>\n      </g>\n     </g>\n    </g>\n    <g id=\"text_16\">\n     <!-- Count -->\n     <defs>\n      <path d=\"M 64.40625 67.28125 \nL 64.40625 56.890625 \nQ 59.421875 61.53125 53.78125 63.8125 \nQ 48.140625 66.109375 41.796875 66.109375 \nQ 29.296875 66.109375 22.65625 58.46875 \nQ 16.015625 50.828125 16.015625 36.375 \nQ 16.015625 21.96875 22.65625 14.328125 \nQ 29.296875 6.6875 41.796875 6.6875 \nQ 48.140625 6.6875 53.78125 8.984375 \nQ 59.421875 11.28125 64.40625 15.921875 \nL 64.40625 5.609375 \nQ 59.234375 2.09375 53.4375 0.328125 \nQ 47.65625 -1.421875 41.21875 -1.421875 \nQ 24.65625 -1.421875 15.125 8.703125 \nQ 5.609375 18.84375 5.609375 36.375 \nQ 5.609375 53.953125 15.125 64.078125 \nQ 24.65625 74.21875 41.21875 74.21875 \nQ 47.75 74.21875 53.53125 72.484375 \nQ 59.328125 70.75 64.40625 67.28125 \nz\n\" id=\"DejaVuSans-67\"/>\n      <path d=\"M 54.890625 33.015625 \nL 54.890625 0 \nL 45.90625 0 \nL 45.90625 32.71875 \nQ 45.90625 40.484375 42.875 44.328125 \nQ 39.84375 48.1875 33.796875 48.1875 \nQ 26.515625 48.1875 22.3125 43.546875 \nQ 18.109375 38.921875 18.109375 30.90625 \nL 18.109375 0 \nL 9.078125 0 \nL 9.078125 54.6875 \nL 18.109375 54.6875 \nL 18.109375 46.1875 \nQ 21.34375 51.125 25.703125 53.5625 \nQ 30.078125 56 35.796875 56 \nQ 45.21875 56 50.046875 50.171875 \nQ 54.890625 44.34375 54.890625 33.015625 \nz\n\" id=\"DejaVuSans-110\"/>\n     </defs>\n     <g transform=\"translate(14.798438 145.886562)rotate(-90)scale(0.1 -0.1)\">\n      <use xlink:href=\"#DejaVuSans-67\"/>\n      <use x=\"69.824219\" xlink:href=\"#DejaVuSans-111\"/>\n      <use x=\"131.005859\" xlink:href=\"#DejaVuSans-117\"/>\n      <use x=\"194.384766\" xlink:href=\"#DejaVuSans-110\"/>\n      <use x=\"257.763672\" xlink:href=\"#DejaVuSans-116\"/>\n     </g>\n    </g>\n   </g>\n   <g id=\"patch_14\">\n    <path d=\"M 40.603125 239.758125 \nL 40.603125 22.318125 \n\" style=\"fill:none;stroke:#000000;stroke-linecap:square;stroke-linejoin:miter;stroke-width:0.8;\"/>\n   </g>\n   <g id=\"patch_15\">\n    <path d=\"M 375.403125 239.758125 \nL 375.403125 22.318125 \n\" style=\"fill:none;stroke:#000000;stroke-linecap:square;stroke-linejoin:miter;stroke-width:0.8;\"/>\n   </g>\n   <g id=\"patch_16\">\n    <path d=\"M 40.603125 239.758125 \nL 375.403125 239.758125 \n\" style=\"fill:none;stroke:#000000;stroke-linecap:square;stroke-linejoin:miter;stroke-width:0.8;\"/>\n   </g>\n   <g id=\"patch_17\">\n    <path d=\"M 40.603125 22.318125 \nL 375.403125 22.318125 \n\" style=\"fill:none;stroke:#000000;stroke-linecap:square;stroke-linejoin:miter;stroke-width:0.8;\"/>\n   </g>\n   <g id=\"text_17\">\n    <!-- Histogram of number of factors -->\n    <defs>\n     <path d=\"M 9.8125 72.90625 \nL 19.671875 72.90625 \nL 19.671875 43.015625 \nL 55.515625 43.015625 \nL 55.515625 72.90625 \nL 65.375 72.90625 \nL 65.375 0 \nL 55.515625 0 \nL 55.515625 34.71875 \nL 19.671875 34.71875 \nL 19.671875 0 \nL 9.8125 0 \nz\n\" id=\"DejaVuSans-72\"/>\n     <path d=\"M 9.421875 54.6875 \nL 18.40625 54.6875 \nL 18.40625 0 \nL 9.421875 0 \nz\nM 9.421875 75.984375 \nL 18.40625 75.984375 \nL 18.40625 64.59375 \nL 9.421875 64.59375 \nz\n\" id=\"DejaVuSans-105\"/>\n     <path d=\"M 45.40625 27.984375 \nQ 45.40625 37.75 41.375 43.109375 \nQ 37.359375 48.484375 30.078125 48.484375 \nQ 22.859375 48.484375 18.828125 43.109375 \nQ 14.796875 37.75 14.796875 27.984375 \nQ 14.796875 18.265625 18.828125 12.890625 \nQ 22.859375 7.515625 30.078125 7.515625 \nQ 37.359375 7.515625 41.375 12.890625 \nQ 45.40625 18.265625 45.40625 27.984375 \nz\nM 54.390625 6.78125 \nQ 54.390625 -7.171875 48.1875 -13.984375 \nQ 42 -20.796875 29.203125 -20.796875 \nQ 24.46875 -20.796875 20.265625 -20.09375 \nQ 16.0625 -19.390625 12.109375 -17.921875 \nL 12.109375 -9.1875 \nQ 16.0625 -11.328125 19.921875 -12.34375 \nQ 23.78125 -13.375 27.78125 -13.375 \nQ 36.625 -13.375 41.015625 -8.765625 \nQ 45.40625 -4.15625 45.40625 5.171875 \nL 45.40625 9.625 \nQ 42.625 4.78125 38.28125 2.390625 \nQ 33.9375 0 27.875 0 \nQ 17.828125 0 11.671875 7.65625 \nQ 5.515625 15.328125 5.515625 27.984375 \nQ 5.515625 40.671875 11.671875 48.328125 \nQ 17.828125 56 27.875 56 \nQ 33.9375 56 38.28125 53.609375 \nQ 42.625 51.21875 45.40625 46.390625 \nL 45.40625 54.6875 \nL 54.390625 54.6875 \nz\n\" id=\"DejaVuSans-103\"/>\n    </defs>\n    <g transform=\"translate(113.563125 16.318125)scale(0.12 -0.12)\">\n     <use xlink:href=\"#DejaVuSans-72\"/>\n     <use x=\"75.195312\" xlink:href=\"#DejaVuSans-105\"/>\n     <use x=\"102.978516\" xlink:href=\"#DejaVuSans-115\"/>\n     <use x=\"155.078125\" xlink:href=\"#DejaVuSans-116\"/>\n     <use x=\"194.287109\" xlink:href=\"#DejaVuSans-111\"/>\n     <use x=\"255.46875\" xlink:href=\"#DejaVuSans-103\"/>\n     <use x=\"318.945312\" xlink:href=\"#DejaVuSans-114\"/>\n     <use x=\"360.058594\" xlink:href=\"#DejaVuSans-97\"/>\n     <use x=\"421.337891\" xlink:href=\"#DejaVuSans-109\"/>\n     <use x=\"518.75\" xlink:href=\"#DejaVuSans-32\"/>\n     <use x=\"550.537109\" xlink:href=\"#DejaVuSans-111\"/>\n     <use x=\"611.71875\" xlink:href=\"#DejaVuSans-102\"/>\n     <use x=\"646.923828\" xlink:href=\"#DejaVuSans-32\"/>\n     <use x=\"678.710938\" xlink:href=\"#DejaVuSans-110\"/>\n     <use x=\"742.089844\" xlink:href=\"#DejaVuSans-117\"/>\n     <use x=\"805.46875\" xlink:href=\"#DejaVuSans-109\"/>\n     <use x=\"902.880859\" xlink:href=\"#DejaVuSans-98\"/>\n     <use x=\"966.357422\" xlink:href=\"#DejaVuSans-101\"/>\n     <use x=\"1027.880859\" xlink:href=\"#DejaVuSans-114\"/>\n     <use x=\"1068.994141\" xlink:href=\"#DejaVuSans-32\"/>\n     <use x=\"1100.78125\" xlink:href=\"#DejaVuSans-111\"/>\n     <use x=\"1161.962891\" xlink:href=\"#DejaVuSans-102\"/>\n     <use x=\"1197.167969\" xlink:href=\"#DejaVuSans-32\"/>\n     <use x=\"1228.955078\" xlink:href=\"#DejaVuSans-102\"/>\n     <use x=\"1264.160156\" xlink:href=\"#DejaVuSans-97\"/>\n     <use x=\"1325.439453\" xlink:href=\"#DejaVuSans-99\"/>\n     <use x=\"1380.419922\" xlink:href=\"#DejaVuSans-116\"/>\n     <use x=\"1419.628906\" xlink:href=\"#DejaVuSans-111\"/>\n     <use x=\"1480.810547\" xlink:href=\"#DejaVuSans-114\"/>\n     <use x=\"1521.923828\" xlink:href=\"#DejaVuSans-115\"/>\n    </g>\n   </g>\n  </g>\n </g>\n <defs>\n  <clipPath id=\"p58a4782581\">\n   <rect height=\"217.44\" width=\"334.8\" x=\"40.603125\" y=\"22.318125\"/>\n  </clipPath>\n </defs>\n</svg>\n"
          },
          "metadata": {
            "tags": []
          }
        }
      ]
    },
    {
      "cell_type": "markdown",
      "metadata": {
        "id": "Zdsa7eRTyDJj",
        "colab_type": "text"
      },
      "source": [
        "## 4. Pickle\n",
        "Next you will practice using pickle to load data from the file \"data1.pickle\".  The pickle is storing an ndarray object (numpy multi-dimensional array).  Load the pickle file and save its contents into a variable called `mydata`.\n"
      ]
    },
    {
      "cell_type": "code",
      "metadata": {
        "id": "hjGB7msqyDJk",
        "colab_type": "code",
        "colab": {}
      },
      "source": [
        "# INSERT YOUR CODE HERE"
      ],
      "execution_count": 0,
      "outputs": []
    },
    {
      "cell_type": "code",
      "metadata": {
        "id": "R2LvL_LUyDJl",
        "colab_type": "code",
        "outputId": "82485033-5b80-4770-9369-744c33caa6c2",
        "colab": {
          "base_uri": "https://localhost:8080/",
          "height": 207
        }
      },
      "source": [
        "import pickle \n",
        "with open('data1.pickle', 'rb') as file: # (read bytes)\n",
        " mydata = pickle.load(file) "
      ],
      "execution_count": 0,
      "outputs": [
        {
          "output_type": "error",
          "ename": "FileNotFoundError",
          "evalue": "ignored",
          "traceback": [
            "\u001b[0;31m---------------------------------------------------------------------------\u001b[0m",
            "\u001b[0;31mFileNotFoundError\u001b[0m                         Traceback (most recent call last)",
            "\u001b[0;32m<ipython-input-108-447df6b4ce51>\u001b[0m in \u001b[0;36m<module>\u001b[0;34m()\u001b[0m\n\u001b[1;32m      1\u001b[0m \u001b[0;32mimport\u001b[0m \u001b[0mpickle\u001b[0m\u001b[0;34m\u001b[0m\u001b[0;34m\u001b[0m\u001b[0m\n\u001b[0;32m----> 2\u001b[0;31m \u001b[0;32mwith\u001b[0m \u001b[0mopen\u001b[0m\u001b[0;34m(\u001b[0m\u001b[0;34m'data1.pickle'\u001b[0m\u001b[0;34m,\u001b[0m \u001b[0;34m'rb'\u001b[0m\u001b[0;34m)\u001b[0m \u001b[0;32mas\u001b[0m \u001b[0mfile\u001b[0m\u001b[0;34m:\u001b[0m \u001b[0;31m# (read bytes)\u001b[0m\u001b[0;34m\u001b[0m\u001b[0;34m\u001b[0m\u001b[0m\n\u001b[0m\u001b[1;32m      3\u001b[0m  \u001b[0mmydata\u001b[0m \u001b[0;34m=\u001b[0m \u001b[0mpickle\u001b[0m\u001b[0;34m.\u001b[0m\u001b[0mload\u001b[0m\u001b[0;34m(\u001b[0m\u001b[0mfile\u001b[0m\u001b[0;34m)\u001b[0m\u001b[0;34m\u001b[0m\u001b[0;34m\u001b[0m\u001b[0m\n",
            "\u001b[0;31mFileNotFoundError\u001b[0m: [Errno 2] No such file or directory: 'data1.pickle'"
          ]
        }
      ]
    },
    {
      "cell_type": "markdown",
      "metadata": {
        "id": "N4699jYayDJn",
        "colab_type": "text"
      },
      "source": [
        "`mydata` is a 2-d array. Each row of the array is a \"sample\". Let's look at the shape of the array."
      ]
    },
    {
      "cell_type": "code",
      "metadata": {
        "scrolled": true,
        "id": "6_st36hYyDJo",
        "colab_type": "code",
        "colab": {}
      },
      "source": [
        "mydata.shape"
      ],
      "execution_count": 0,
      "outputs": []
    },
    {
      "cell_type": "markdown",
      "metadata": {
        "id": "_iXgek0LyDJp",
        "colab_type": "text"
      },
      "source": [
        "Inspecting the shape of the array, we see that there are 120 samples (rows). Each sample is a 2-dimensional vector (the number of columns)."
      ]
    },
    {
      "cell_type": "markdown",
      "metadata": {
        "id": "n0x_t6EayDJq",
        "colab_type": "text"
      },
      "source": [
        "Finally, let's visualise the data with a plot.  Treat the 1st dimension of the samples as the x-variable, and the 2nd dimension as the y-variable. In other words, plot the 1st column of the data vs. the 2nd column of the data."
      ]
    },
    {
      "cell_type": "code",
      "metadata": {
        "id": "LjbmeUPzyDJr",
        "colab_type": "code",
        "colab": {}
      },
      "source": [
        "# INSERT YOUR CODE HERE"
      ],
      "execution_count": 0,
      "outputs": []
    },
    {
      "cell_type": "code",
      "metadata": {
        "id": "86DEwBmGyDJs",
        "colab_type": "code",
        "colab": {}
      },
      "source": [
        "x=mydata[:,0]\n",
        "y=mydata[:,1]\n",
        "plt.plot(x,y,'bo-')\n",
        "plt.grid(True)\n",
        "plt.ylabel('y label');plt.xlabel('x label');plt.title('mydata')\n",
        "plt.show()"
      ],
      "execution_count": 0,
      "outputs": []
    },
    {
      "cell_type": "markdown",
      "metadata": {
        "id": "VQhP7VwNyDJu",
        "colab_type": "text"
      },
      "source": [
        "# 5. Using Numpy \n",
        "Now we will practice using NumPy to implement the Gram-Schmidt process for orthonormalizing a set of vectors that span the same subspace. Recall that a set of vectors $\\{\\mathbf{e}_i\\}_{i=1}^K$ are orthonormal if $\\mathbf{e}_i^T \\mathbf{e}_j = \\begin{cases} 1, & i=j \\\\ 0, &i\\neq j\\end{cases}$.  That is, each vector $\\mathbf{e}_i$ is orthogonal (90 degrees from) all other vectors $\\mathbf{e}_j$, $j\\neq i$, and all vectors are unit length $||\\mathbf{e}_i||=1$."
      ]
    },
    {
      "cell_type": "markdown",
      "metadata": {
        "id": "bkLvaEykyDJu",
        "colab_type": "text"
      },
      "source": [
        "### Gram-Schmidt process\n",
        "Define the projection of vector $\\mathbf{v}$ onto the direction of vector $\\mathbf{u}$ as:\n",
        "$P_{\\mathbf{u}}(\\mathbf{v}) = \\frac{\\mathbf{v}^T\\mathbf{u}}{\\mathbf{u}^T\\mathbf{u}} \\mathbf{u}$.\n",
        "\n",
        "The Gram-Schmidt process for the set of vectors $\\{\\mathbf{v}_i\\}_{i=1}^K$ is obtained in two steps. The first step produces a set of orthogonal vectors:\n",
        "1. $\\mathbf{u}_1 = \\mathbf{v}_1$\n",
        "2. $\\mathbf{u}_2 = \\mathbf{v}_2 - P_{\\mathbf{u}_1}(\\mathbf{v}_2)$\n",
        "3. $\\mathbf{u}_3 = \\mathbf{v}_3 - P_{\\mathbf{u}_1}(\\mathbf{v}_3) - P_{\\mathbf{u}_2}(\\mathbf{v}_3)$\n",
        "4. $\\mathbf{u}_4 = \\mathbf{v}_4 - P_{\\mathbf{u}_1}(\\mathbf{v}_4) - P_{\\mathbf{u}_2}(\\mathbf{v}_4)- P_{\\mathbf{u}_3}(\\mathbf{v}_4) $\n",
        "5. ...\n",
        "6. $\\mathbf{u}_k = \\mathbf{v}_k - \\sum_{j=1}^{k-1} P_{\\mathbf{u}_j}(\\mathbf{v}_k)$\n",
        "\n",
        "The second step computes the orthonormal vectors: $\\mathbf{e}_k = \\frac{\\mathbf{u}_k}{||\\mathbf{u}_k||}$."
      ]
    },
    {
      "cell_type": "markdown",
      "metadata": {
        "id": "rPoEr-C9yDJv",
        "colab_type": "text"
      },
      "source": [
        "Let $\\mathbf{V} = [\\mathbf{v}_1 \\cdots \\mathbf{v}_K]$ be a matrix of vectors. Write a function to orthonormalize the columns of an input matrix $V$, and return the result matrix $\\mathbf{E} = [\\mathbf{e}_1 \\cdots \\mathbf{e}_K]$."
      ]
    },
    {
      "cell_type": "code",
      "metadata": {
        "id": "2fg0ge9TyDJw",
        "colab_type": "code",
        "colab": {}
      },
      "source": [
        "from numpy import *\n"
      ],
      "execution_count": 0,
      "outputs": []
    },
    {
      "cell_type": "code",
      "metadata": {
        "id": "6wzDHATHhb5Z",
        "colab_type": "code",
        "colab": {}
      },
      "source": [
        "def Pu(u,v):\n",
        "  Puv = (v.transpose() @ u ) / (u.transpose() @ u ) * u\n",
        "  return Puv"
      ],
      "execution_count": 0,
      "outputs": []
    },
    {
      "cell_type": "code",
      "metadata": {
        "id": "FsvS0EdkyDJz",
        "colab_type": "code",
        "colab": {}
      },
      "source": [
        "def MyU(V):\n",
        "  U = []\n",
        "  k = 1\n",
        "  j = 1\n",
        "  while k <= len(V):\n",
        "    u = V[k-1]\n",
        "    while j <= k-1:\n",
        "      u -= Pu(U[j-1], V[k-1]) \n",
        "      j += 1\n",
        "    #U = np.append(U,u)\n",
        "    U.append(u)\n",
        "    k += 1\n",
        "    j = 1\n",
        "  return array(U)"
      ],
      "execution_count": 0,
      "outputs": []
    },
    {
      "cell_type": "code",
      "metadata": {
        "id": "q-xYvXiwyDJ1",
        "colab_type": "code",
        "colab": {}
      },
      "source": [
        "def myGS(V):\n",
        "  U = MyU(V)\n",
        "  print(\"U - \\n\", U)\n",
        "  E = []\n",
        "  for u in U:\n",
        "    e = u / linalg.norm(u)\n",
        "    #E = np.append(E,e)\n",
        "    E.append(e)\n",
        "  return array(E)"
      ],
      "execution_count": 0,
      "outputs": []
    },
    {
      "cell_type": "code",
      "metadata": {
        "id": "ZvJAvHW1Y_eg",
        "colab_type": "code",
        "outputId": "826acc37-0fbb-4b1b-cc2b-cbefee9e8846",
        "colab": {
          "base_uri": "https://localhost:8080/",
          "height": 35
        }
      },
      "source": [
        "v1=array([ 1.,-1., 2.])\n",
        "u1=v1\n",
        "v2=array([ 0., 2., 3.])\n",
        "print(v2 - Pu(u1,v2))"
      ],
      "execution_count": 0,
      "outputs": [
        {
          "output_type": "stream",
          "text": [
            "[-0.66666667  2.66666667  1.66666667]\n"
          ],
          "name": "stdout"
        }
      ]
    },
    {
      "cell_type": "markdown",
      "metadata": {
        "id": "d4ctIG6byDJ3",
        "colab_type": "text"
      },
      "source": [
        "Test your function with the following code. Here we assume the function is called `myGS`."
      ]
    },
    {
      "cell_type": "code",
      "metadata": {
        "id": "3-aK-mKryDJ3",
        "colab_type": "code",
        "outputId": "3fd93f2c-b74c-4c11-9ebf-230d80740a20",
        "colab": {
          "base_uri": "https://localhost:8080/",
          "height": 89
        }
      },
      "source": [
        "V = array([[1., 0, -1, 4], [-1, 2, 2, -1], [2, 3, 1, -3]]).transpose()\n",
        "print(V)"
      ],
      "execution_count": 0,
      "outputs": [
        {
          "output_type": "stream",
          "text": [
            "[[ 1. -1.  2.]\n",
            " [ 0.  2.  3.]\n",
            " [-1.  2.  1.]\n",
            " [ 4. -1. -3.]]\n"
          ],
          "name": "stdout"
        }
      ]
    },
    {
      "cell_type": "code",
      "metadata": {
        "scrolled": true,
        "id": "83U-znBgyDJ5",
        "colab_type": "code",
        "outputId": "2f2b57ff-5c39-43de-9fdb-543d7b4147c4",
        "colab": {
          "base_uri": "https://localhost:8080/",
          "height": 179
        }
      },
      "source": [
        "E = myGS(V)\n",
        "# print E matrix\n",
        "print(E)"
      ],
      "execution_count": 0,
      "outputs": [
        {
          "output_type": "stream",
          "text": [
            "U - \n",
            " [[ 1.00000000e+00 -1.00000000e+00  2.00000000e+00]\n",
            " [-6.66666667e-01  2.66666667e+00  1.66666667e+00]\n",
            " [-3.38709677e-01 -1.45161290e-01  9.67741935e-02]\n",
            " [-1.33226763e-15  3.33066907e-15  1.77635684e-15]]\n",
            "[[ 0.40824829 -0.40824829  0.81649658]\n",
            " [-0.20739034  0.82956136  0.51847585]\n",
            " [-0.88900089 -0.38100038  0.25400025]\n",
            " [-0.33282012  0.83205029  0.44376016]]\n"
          ],
          "name": "stdout"
        }
      ]
    },
    {
      "cell_type": "markdown",
      "metadata": {
        "id": "_P0RizU5yDJ6",
        "colab_type": "text"
      },
      "source": [
        "Your function is correct if $\\mathbf{E}^T\\mathbf{E}$ is the identity matrix $\\mathbf{I} = \\left[\\begin{array}{c}1 & 0 & 0 \\\\ 0 & 1 & 0 \\\\ 0 & 0 & 1 \\end{array}\\right]$."
      ]
    },
    {
      "cell_type": "code",
      "metadata": {
        "id": "2ulo-UbtyDJ7",
        "colab_type": "code",
        "outputId": "1ed6e892-2f11-4282-b335-36f88e3fac87",
        "colab": {
          "base_uri": "https://localhost:8080/",
          "height": 197
        }
      },
      "source": [
        "# compute E^T E. it should be close to the identity matrix\n",
        "print(E.transpose())\n",
        "print(E)\n",
        "print(E.transpose() @ E)"
      ],
      "execution_count": 0,
      "outputs": [
        {
          "output_type": "stream",
          "text": [
            "[[ 0.40824829 -0.20739034 -0.88900089 -0.33282012]\n",
            " [-0.40824829  0.82956136 -0.38100038  0.83205029]\n",
            " [ 0.81649658  0.51847585  0.25400025  0.44376016]]\n",
            "[[ 0.40824829 -0.40824829  0.81649658]\n",
            " [-0.20739034  0.82956136  0.51847585]\n",
            " [-0.88900089 -0.38100038  0.25400025]\n",
            " [-0.33282012  0.83205029  0.44376016]]\n",
            "[[ 1.11076923 -0.27692308 -0.14769231]\n",
            " [-0.27692308  1.69230769  0.36923077]\n",
            " [-0.14769231  0.36923077  1.19692308]]\n"
          ],
          "name": "stdout"
        }
      ]
    },
    {
      "cell_type": "markdown",
      "metadata": {
        "id": "vUA6DmrlyDJ8",
        "colab_type": "text"
      },
      "source": [
        "## 6. Getting Help\n",
        "\n",
        "IPython has built-in help.  Here are some useful commands:\n",
        "- `?` - introduction to IPython\n",
        "- `object?` - info/help about an object, class, or module\n",
        "- `object??` - even more details\n",
        "- `%quickref` - quick reference for IPython magic functions (%)\n",
        "- `%history` - show the history of the session\n",
        "- tab-completion - hit tab to use auto-completion"
      ]
    },
    {
      "cell_type": "code",
      "metadata": {
        "id": "18qUnzYRyDJ9",
        "colab_type": "code",
        "colab": {}
      },
      "source": [
        "plt?"
      ],
      "execution_count": 0,
      "outputs": []
    }
  ]
}